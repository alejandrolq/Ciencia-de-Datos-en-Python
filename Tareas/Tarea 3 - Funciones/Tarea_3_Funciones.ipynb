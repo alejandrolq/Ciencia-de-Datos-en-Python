{
  "nbformat": 4,
  "nbformat_minor": 5,
  "metadata": {
    "kernelspec": {
      "display_name": "Python 3",
      "language": "python",
      "name": "python3"
    },
    "language_info": {
      "codemirror_mode": {
        "name": "ipython",
        "version": 3
      },
      "file_extension": ".py",
      "mimetype": "text/x-python",
      "name": "python",
      "nbconvert_exporter": "python",
      "pygments_lexer": "ipython3",
      "version": "3.8.5"
    },
    "colab": {
      "name": "Tarea 3 - Funciones.ipynb",
      "provenance": [],
      "collapsed_sections": []
    }
  },
  "cells": [
    {
      "cell_type": "markdown",
      "metadata": {
        "id": "ky6aOb6k5-5w"
      },
      "source": [
        "![logo](https://github.com/alejandrolq/Ciencia-de-Datos-en-Python/blob/main/Tareas/Tarea%202%20-%20Git/images/logo.png?raw=1)"
      ],
      "id": "ky6aOb6k5-5w"
    },
    {
      "cell_type": "markdown",
      "metadata": {
        "id": "MJ_ddrVQ5-50"
      },
      "source": [
        "**Nombre: José Alejandro López Quel**\n",
        "\n",
        "**Carné: 21001127**\n",
        "\n",
        "**Ciencia de Datos en Python**\n",
        "\n",
        "**Sección U**\n",
        "\n",
        "**Tarea 3**"
      ],
      "id": "MJ_ddrVQ5-50"
    },
    {
      "cell_type": "markdown",
      "metadata": {
        "id": "7CFymTyY5-51"
      },
      "source": [
        "# Funciones en Python"
      ],
      "id": "7CFymTyY5-51"
    },
    {
      "cell_type": "markdown",
      "metadata": {
        "id": "S_HVIShR5-51"
      },
      "source": [
        "## ¿Qué es una función?\n",
        "Una función es un bloque de código con un nombre asociado, este bloque contiene una secuencia de sentencias las cuales ejecutan una operación deseada. La función puede recibir cero o más argumentos como entrada, los cuales son utilizados para devolver un valor y/o realizar una tarea. La función dentro del programa principal puede ser llamada cuando se necesite."
      ],
      "id": "S_HVIShR5-51"
    },
    {
      "cell_type": "markdown",
      "metadata": {
        "id": "x5WC2slt5-52"
      },
      "source": [
        "## Ventajas de utilizar una función\n",
        "El uso de funciones es un punto importante dentro del paradigma de programación estructurada. Se tienen dos grandes ventajas, las cuales se listan a continuación:\n",
        "\n",
        "1.   **Modularización**: La modularización permite segmentar un programa complejo en módulos más simples, facilitando así la estructura de programación y la depuración.\n",
        "2.   **Reutilización**: Esto permite a la función declarada ser utilizada multiples veces dentro del mismo programa sin la necesidad de repetir las mismas líneas de código, o bien, ser utilizado dentro de otro programa debido a la ventaja anterior.\n",
        "\n"
      ],
      "id": "x5WC2slt5-52"
    },
    {
      "cell_type": "markdown",
      "metadata": {
        "id": "OGxo4uXxkrJv"
      },
      "source": [
        "## Uso de funciones en Python\r\n",
        "\r\n",
        "### Definición de función\r\n",
        "\r\n",
        "Para definir una función en Python se utiliza la sentencia `def`. La sintaxis para una **definición de función** en Python es la siguiente:\r\n",
        "\r\n",
        "```python\r\n",
        "def NOMBRE (LISTA DE PARÁMETROS):\r\n",
        "    SECUENCIA DE SENTENCIAS\r\n",
        "    return [EXPRESIÓN]  \r\n",
        "```\r\n",
        "\r\n",
        "Una **definición de función** es una sentencia ejecutable. Su ejecución enlaza el nombre de la función en el `namespace` local actual a un objecto función. Este objeto función contiene una referencia al `namespace` local global como el `namespace` global para ser usado cuando la función es llamada.\r\n",
        "\r\n",
        "La **definición de función**, por si sola, no ejecuta el cuerpo de la función; esto ocurré solamente cuando se hace referencia a la misma, en otras palabras, la función es llamada.\r\n",
        "\r\n",
        "#### Partes de una función\r\n",
        "\r\n",
        "1.   `NOMBRE`: Es el nombre asignado a la función, el cual será utilizado para ejecutarla.\r\n",
        "2.   `LISTA DE PARÁMETROS`: Son los elementos que puede recibir una función, los cuales son utilizados por la secuencia de sentencias. Esta lista puede recibir cualquier tipo de objeto y puede también estar vacía.\r\n",
        "3.   `SECUENCIA DE SENTENCIAS`: Es el bloque de sentencias de código para realizar una operación dada.\r\n",
        "4.   `return`: Es una sentencia de Python utilizada para comunicar valores calculados dentro de la función con el `namespace` en donde fue llamada.\r\n",
        "5.   `EXPRESIÓN`: Es la expresión, variable u objeto que devuelve la sentencia `return`.\r\n",
        "\r\n",
        "Ejemplo de una función real en Python:\r\n",
        "\r\n",
        "```python\r\n",
        "def suma(elemento_uno, elemento_dos):\r\n",
        "    resultado = elemento_uno + elemento_dos\r\n",
        "    return resultado\r\n",
        "```"
      ],
      "id": "OGxo4uXxkrJv"
    },
    {
      "cell_type": "markdown",
      "metadata": {
        "id": "aZlWpGMv5aET"
      },
      "source": [
        "### Parámetros de una función\r\n",
        "\r\n",
        "Cuando se define una función, también se definen los argumentos que se reciben por parte de la ejecución principal, estos argumentos que se envían a la función se denominan **parámetros de la función**. Estos parámetros representan dentro de la función variables locales, que solamente existen dentro de la función y no fuera de ella.\r\n",
        "\r\n",
        "Como se mencionaba anteriormente los **parámetros de la función** al momento de ser incluidos en la llamada de la función se les denomina **argumentos**.\r\n",
        "\r\n",
        "Existen distintas formas en que la función recibirá estos párametros, las cuales se detallan a continuación:\r\n",
        "\r\n",
        "#### Parámetros posicionales\r\n",
        "Por defecto, la función recibe los parámetros en el orden en que fueron definidos. Se dice entonces que son párametros o argumentos por posición o posicionales.\r\n",
        "\r\n",
        "Ejemplo:"
      ],
      "id": "aZlWpGMv5aET"
    },
    {
      "cell_type": "code",
      "metadata": {
        "colab": {
          "base_uri": "https://localhost:8080/"
        },
        "id": "FqGzRcSch8wb",
        "outputId": "206dd7fb-77b3-4dd4-f243-b0ad41b33cef"
      },
      "source": [
        "# Definición de la función\r\n",
        "def division(elemento_uno, elemento_dos):\r\n",
        "    resultado = elemento_uno / elemento_dos\r\n",
        "    return resultado\r\n",
        "\r\n",
        "# Llamada de la función\r\n",
        "division(4,2)\r\n",
        "\r\n",
        "# Resultado"
      ],
      "id": "FqGzRcSch8wb",
      "execution_count": 1,
      "outputs": [
        {
          "output_type": "execute_result",
          "data": {
            "text/plain": [
              "2.0"
            ]
          },
          "metadata": {
            "tags": []
          },
          "execution_count": 1
        }
      ]
    },
    {
      "cell_type": "markdown",
      "metadata": {
        "id": "B4ohRiQ6iAbv"
      },
      "source": [
        "Como se observa en el ejemplo los argumentos que son contenidos en la llamada de la función se toman en el orden en el que se envían, siendo el `elemento_uno = 4` y el `elemento_dos = 2`."
      ],
      "id": "B4ohRiQ6iAbv"
    },
    {
      "cell_type": "markdown",
      "metadata": {
        "id": "ZBHZKWt3gtLc"
      },
      "source": [
        "\r\n",
        "#### Parámetros nombrados\r\n",
        "Como se muestra en la definición anterior, por defecto, las funciones reciben los parámetros de forma ordenada por posición. Sin embargo, es posible es posible enviar estos argumentos sin respetar el orden posicional, para ello se indica durante la llamada de la función el valor que será asignado a cada parámetro a partir de su nombre. A esta forma se le conoce como parámetros o argumentos nombrados.\r\n",
        "\r\n",
        "Ejemplo:"
      ],
      "id": "ZBHZKWt3gtLc"
    },
    {
      "cell_type": "code",
      "metadata": {
        "colab": {
          "base_uri": "https://localhost:8080/"
        },
        "id": "bpfhAGiqiUr_",
        "outputId": "203df7e4-a92e-44ad-8cfe-89ac8db7feef"
      },
      "source": [
        "# Definición de la función\r\n",
        "def division(elemento_uno, elemento_dos):\r\n",
        "    resultado = elemento_uno / elemento_dos\r\n",
        "    return resultado\r\n",
        "\r\n",
        "# Llamada de la función\r\n",
        "division(elemento_dos=2, elemento_uno=4)\r\n",
        "\r\n",
        "# Resultado"
      ],
      "id": "bpfhAGiqiUr_",
      "execution_count": 2,
      "outputs": [
        {
          "output_type": "execute_result",
          "data": {
            "text/plain": [
              "2.0"
            ]
          },
          "metadata": {
            "tags": []
          },
          "execution_count": 2
        }
      ]
    },
    {
      "cell_type": "markdown",
      "metadata": {
        "id": "IYZ2y9mZiYsq"
      },
      "source": [
        "Como se observa en el ejemplo los argumentos que son contenidos en la llamada de la función se toman según el nombre y no la posición, siendo el `elemento_uno = 4` y el `elemento_dos = 2`."
      ],
      "id": "IYZ2y9mZiYsq"
    },
    {
      "cell_type": "markdown",
      "metadata": {
        "id": "K1LwttRfjB3o"
      },
      "source": [
        "#### Parámetros por defecto\r\n",
        "\r\n",
        "Este tipo de parámetros son utilizados cuando en las llamadas de las funciones no se incluyen parámetros y estos sean requeridos por la función. Estos parámetros ayudan a evitar errores del tipo `TypeError`, los cuales ocurren cuando no se utiliza un objeto del tipo correcto, en este caso, un objeto nulo.\r\n",
        "\r\n",
        "Ejemplo:"
      ],
      "id": "K1LwttRfjB3o"
    },
    {
      "cell_type": "code",
      "metadata": {
        "colab": {
          "base_uri": "https://localhost:8080/"
        },
        "id": "xZSnpp4GiVlK",
        "outputId": "ff142bb8-03ef-45b7-afbf-4e88749d4015"
      },
      "source": [
        "# Definición de la función\r\n",
        "def division(elemento_uno = None, elemento_dos=None):\r\n",
        "    if elemento_uno == None or elemento_dos == None:\r\n",
        "        print('Por favor asigne los argumentos a la función division')\r\n",
        "        resultado = 0\r\n",
        "    else:\r\n",
        "        resultado = elemento_uno / elemento_dos\r\n",
        "    return resultado\r\n",
        "\r\n",
        "# Llamada de la función\r\n",
        "division()\r\n",
        "\r\n",
        "# Resultado"
      ],
      "id": "xZSnpp4GiVlK",
      "execution_count": 3,
      "outputs": [
        {
          "output_type": "stream",
          "text": [
            "Por favor asigne los argumentos a la función division\n"
          ],
          "name": "stdout"
        },
        {
          "output_type": "execute_result",
          "data": {
            "text/plain": [
              "0"
            ]
          },
          "metadata": {
            "tags": []
          },
          "execution_count": 3
        }
      ]
    },
    {
      "cell_type": "markdown",
      "metadata": {
        "id": "qpHJiwlWnFrc"
      },
      "source": [
        "Ejemplo cuando no se tiene definidos parámetros por defecto y se realiza una llamada sin argumentos:"
      ],
      "id": "qpHJiwlWnFrc"
    },
    {
      "cell_type": "code",
      "metadata": {
        "colab": {
          "base_uri": "https://localhost:8080/",
          "height": 234
        },
        "id": "RhRtukoclTH5",
        "outputId": "65babc18-3f54-4245-81e8-e621a8316cfd"
      },
      "source": [
        "# Definición de la función\r\n",
        "def division(elemento_uno, elemento_dos):\r\n",
        "    resultado = elemento_uno / elemento_dos\r\n",
        "    return resultado\r\n",
        "\r\n",
        "# Llamada de la función\r\n",
        "division()\r\n",
        "\r\n",
        "# Resultado"
      ],
      "id": "RhRtukoclTH5",
      "execution_count": 4,
      "outputs": [
        {
          "output_type": "error",
          "ename": "TypeError",
          "evalue": "ignored",
          "traceback": [
            "\u001b[0;31m---------------------------------------------------------------------------\u001b[0m",
            "\u001b[0;31mTypeError\u001b[0m                                 Traceback (most recent call last)",
            "\u001b[0;32m<ipython-input-4-38ca0f10c93a>\u001b[0m in \u001b[0;36m<module>\u001b[0;34m()\u001b[0m\n\u001b[1;32m      5\u001b[0m \u001b[0;34m\u001b[0m\u001b[0m\n\u001b[1;32m      6\u001b[0m \u001b[0;31m# Llamada de la función\u001b[0m\u001b[0;34m\u001b[0m\u001b[0;34m\u001b[0m\u001b[0;34m\u001b[0m\u001b[0m\n\u001b[0;32m----> 7\u001b[0;31m \u001b[0mdivision\u001b[0m\u001b[0;34m(\u001b[0m\u001b[0;34m)\u001b[0m\u001b[0;34m\u001b[0m\u001b[0;34m\u001b[0m\u001b[0m\n\u001b[0m\u001b[1;32m      8\u001b[0m \u001b[0;34m\u001b[0m\u001b[0m\n\u001b[1;32m      9\u001b[0m \u001b[0;31m# Resultado\u001b[0m\u001b[0;34m\u001b[0m\u001b[0;34m\u001b[0m\u001b[0;34m\u001b[0m\u001b[0m\n",
            "\u001b[0;31mTypeError\u001b[0m: division() missing 2 required positional arguments: 'elemento_uno' and 'elemento_dos'"
          ]
        }
      ]
    },
    {
      "cell_type": "markdown",
      "metadata": {
        "id": "rzLqAqhXnW9g"
      },
      "source": [
        "#### Parámetros indeterminados\r\n",
        "En ciertas ocasiones, no se conoce cuantos argumentos serán los que se enviarán a la función, lo cual resulta difícil para identificar el número de parámetros que se deben definir dentro de la misma. Para esos casos se puede utilizar los parámetros indeterminados, tal como ocurré con los parámetros normales, estos pueden ser declarados por posición y por nombre.\r\n",
        "\r\n",
        "##### Parámetros indeterminados por posición\r\n",
        "\r\n",
        "Estan definidos por la expresión `*args`, en este caso la función recibirá todos los parámetros que se le envien de forma posicional.\r\n",
        "\r\n",
        "Ejemplo:"
      ],
      "id": "rzLqAqhXnW9g"
    },
    {
      "cell_type": "code",
      "metadata": {
        "colab": {
          "base_uri": "https://localhost:8080/"
        },
        "id": "SPP7D9JinTAC",
        "outputId": "6bf23631-2a46-402b-c2e4-9f63a37f4765"
      },
      "source": [
        "# Definición de la función\r\n",
        "def todos_los_parametros(*args):\r\n",
        "    for argumento in args:\r\n",
        "        print(type(argumento))\r\n",
        "    return len(args)\r\n",
        "\r\n",
        "# Llamada de la función\r\n",
        "todos_los_parametros(1, 'Prueba', [0,1,2], (1,2))\r\n",
        "\r\n",
        "# Resultado"
      ],
      "id": "SPP7D9JinTAC",
      "execution_count": 5,
      "outputs": [
        {
          "output_type": "stream",
          "text": [
            "<class 'int'>\n",
            "<class 'str'>\n",
            "<class 'list'>\n",
            "<class 'tuple'>\n"
          ],
          "name": "stdout"
        },
        {
          "output_type": "execute_result",
          "data": {
            "text/plain": [
              "4"
            ]
          },
          "metadata": {
            "tags": []
          },
          "execution_count": 5
        }
      ]
    },
    {
      "cell_type": "markdown",
      "metadata": {
        "id": "1lPP41hurEZW"
      },
      "source": [
        "##### Parámetros indeterminados por nombre\r\n",
        "Estan definidos por la expresión `**kwargs`, que significa clave-valor o en inglés *keyword args*, en este caso la función recibirá todos los parámetros que se le envien por el nombre que se les asignó.\r\n",
        "\r\n",
        "Ejemplo:"
      ],
      "id": "1lPP41hurEZW"
    },
    {
      "cell_type": "code",
      "metadata": {
        "colab": {
          "base_uri": "https://localhost:8080/"
        },
        "id": "yeSbKdRVrB6X",
        "outputId": "01928b83-767d-44ad-c7cf-d3c37746475b"
      },
      "source": [
        "# Definición de la función\r\n",
        "def todos_los_parametros(**kwargs):\r\n",
        "    for argumento in kwargs:\r\n",
        "        print(argumento, \"-\", type(argumento))\r\n",
        "    return len(kwargs)\r\n",
        "\r\n",
        "# Llamada de la función\r\n",
        "todos_los_parametros(z=1, w='Prueba', x=[0,1,2], y=(1,2))\r\n",
        "\r\n",
        "# Resultado"
      ],
      "id": "yeSbKdRVrB6X",
      "execution_count": 6,
      "outputs": [
        {
          "output_type": "stream",
          "text": [
            "z - <class 'str'>\n",
            "w - <class 'str'>\n",
            "x - <class 'str'>\n",
            "y - <class 'str'>\n"
          ],
          "name": "stdout"
        },
        {
          "output_type": "execute_result",
          "data": {
            "text/plain": [
              "4"
            ]
          },
          "metadata": {
            "tags": []
          },
          "execution_count": 6
        }
      ]
    },
    {
      "cell_type": "markdown",
      "metadata": {
        "id": "oUpQejLcsZSU"
      },
      "source": [
        "Estos parámetros se pueden utilizar simultáneamente, para ello es necesario primero definir los argumentos indeterminados por valor y luego los argumentos por clave y valor. Los nombres args y kwargs no son obligatorios, pero se suelen utilizar por convención, debido a que es una buena practica llamarlos así."
      ],
      "id": "oUpQejLcsZSU"
    },
    {
      "cell_type": "markdown",
      "metadata": {
        "id": "X_L5c8KLtVrJ"
      },
      "source": [
        "#### Funciones como objetos y como parámetros de otras funciones\r\n",
        "\r\n",
        "En general todos los datos en Python están representados por objetos o relaciones entre objetos. No existe casos particularmente especiales en relación a las funciones, dentro de Python son objetos de primera clase y pueden ser asignadas a otra variable, almacenarse en un objeto contenedor como lo son las listas, las tuplas o los diccionarios, es posible enviarlas como argumentos y demás funciones que cualquier otro objeto pueda llegar a tener.\r\n",
        "\r\n",
        "Ejemplo:\r\n",
        "\r\n",
        "Se tiene la función `operar`, la cual recibe como primer parámetro una función y un número indeterminado de argumentos que serán usados como argumentos de la función recibida. Adicionalmente se tiene dos funciones llamadas `raiz_cuadrada` y `cuadrado`, las cuales se utilizarán como argumentos al llamar la función `operar`."
      ],
      "id": "X_L5c8KLtVrJ"
    },
    {
      "cell_type": "code",
      "metadata": {
        "id": "L8yN5GRpsUEg"
      },
      "source": [
        "# Definición de la función operar y las funciones cuadrado y raiz_cuadrada\r\n",
        "def operar(funcion, *args):\r\n",
        "    for argumento in args:\r\n",
        "        print(funcion(argumento))\r\n",
        "\r\n",
        "def cuadrado(x):\r\n",
        "    return x ** 2\r\n",
        "\r\n",
        "def raiz_cuadrada(x):\r\n",
        "    return x ** 0.5"
      ],
      "id": "L8yN5GRpsUEg",
      "execution_count": 7,
      "outputs": []
    },
    {
      "cell_type": "code",
      "metadata": {
        "colab": {
          "base_uri": "https://localhost:8080/"
        },
        "id": "HyODqb3qwD3K",
        "outputId": "82aaa77a-b01d-4cfa-c22e-ecb33a07468f"
      },
      "source": [
        "# Llamada de la función operar con la función cuadrado como argumento junto con otros argumentos\r\n",
        "operar(cuadrado, 2, 3, 5)\r\n",
        "\r\n",
        "#Resultado"
      ],
      "id": "HyODqb3qwD3K",
      "execution_count": 8,
      "outputs": [
        {
          "output_type": "stream",
          "text": [
            "4\n",
            "9\n",
            "25\n"
          ],
          "name": "stdout"
        }
      ]
    },
    {
      "cell_type": "code",
      "metadata": {
        "colab": {
          "base_uri": "https://localhost:8080/"
        },
        "id": "wvY5LgWIwWTi",
        "outputId": "4bd54995-b4ca-4959-c799-fd99f08922cd"
      },
      "source": [
        "# Llamada de la función operar con la función raiz_cuadrada como argumento junto con otros argumentos\r\n",
        "operar(raiz_cuadrada, 9, 25, 64, 49)\r\n",
        "\r\n",
        "#Resultado"
      ],
      "id": "wvY5LgWIwWTi",
      "execution_count": 9,
      "outputs": [
        {
          "output_type": "stream",
          "text": [
            "3.0\n",
            "5.0\n",
            "8.0\n",
            "7.0\n"
          ],
          "name": "stdout"
        }
      ]
    },
    {
      "cell_type": "markdown",
      "metadata": {
        "id": "PsyJpGc3wxF9"
      },
      "source": [
        "En el ejemplo anterior se tiene que `operar(cuadrado)` y `operar(raiz_cuadrada)` no ejecutan la función en ningún momento, sino que solo toma la referencia de las funciones cuadrado y raiz_cuadrada y crea un segundo nombre `func` localmente apuntando a cada una de las funciones. \r\n",
        "\r\n",
        "De igual forma se puede almacenar las funciones (sus referencias propiamente dicho) en un contenedor como se muestra a continuación:"
      ],
      "id": "PsyJpGc3wxF9"
    },
    {
      "cell_type": "code",
      "metadata": {
        "colab": {
          "base_uri": "https://localhost:8080/"
        },
        "id": "PYnGmMy6we-O",
        "outputId": "0a13af75-262a-4564-a634-c6756563cfd8"
      },
      "source": [
        "# Utilizando las funciones cuadrado y raiz_cuadrada definidas anteriormente \r\n",
        "# Se declara el diccionario llamado funciones conteniendo las referencias a las funciones mencionadas\r\n",
        "funciones = {\"c\": cuadrado, 'rc': raiz_cuadrada}\r\n",
        "\r\n",
        "# Se realiza la llamada a la funcion cuadrado utilizando las llaves del diccionario\r\n",
        "funciones[\"c\"](5)"
      ],
      "id": "PYnGmMy6we-O",
      "execution_count": 11,
      "outputs": [
        {
          "output_type": "execute_result",
          "data": {
            "text/plain": [
              "25"
            ]
          },
          "metadata": {
            "tags": []
          },
          "execution_count": 11
        }
      ]
    },
    {
      "cell_type": "code",
      "metadata": {
        "colab": {
          "base_uri": "https://localhost:8080/"
        },
        "id": "5hmII0uyx368",
        "outputId": "12cc9b7e-89ae-4399-cc95-44c128fd3578"
      },
      "source": [
        "# Se realiza la llamada a la funcion raiz_cuadrada utilizando las llaves del diccionario\r\n",
        "funciones[\"rc\"](81)"
      ],
      "id": "5hmII0uyx368",
      "execution_count": 12,
      "outputs": [
        {
          "output_type": "execute_result",
          "data": {
            "text/plain": [
              "9.0"
            ]
          },
          "metadata": {
            "tags": []
          },
          "execution_count": 12
        }
      ]
    },
    {
      "cell_type": "markdown",
      "metadata": {
        "id": "pgmcQn7Cy6b7"
      },
      "source": [
        "### Funciones Lambda\r\n",
        "\r\n",
        "Se conoce como función anónima o lambda a las funciones que no tienen un nombre asociado. Estas funciones son una excepción a la regla de definición de función debido a que como se mencionaba no tienen un nombre asociado, por lo que estas no se definen utilizando la sentencia `def`. La principal diferencia con las funciones normales es que el contenido de una función lambda debe ser una única expresión en lugar de una secuencia de sentencias. \r\n",
        "\r\n",
        "Más allá del sentido de función que se tiene por lo general, con un nombre asociado y el bloque de acciones internas, una función en su sentido más trivial significa realizar una acción con base a los parámetros recibidos. Por lo tanto, se puede decir que, mientras las funciones anónimas lambda sirven para realizar funciones simples, las funciones definidas con la sentencia `def` sirven para manejar tareas más extensas. En otras palabras, si se deconstruye una función sencilla se puede llegar a obtener una función lambda.\r\n",
        "\r\n",
        "La sintaxis para una función labmda en Python es la siguiente:\r\n",
        "\r\n",
        "```python\r\n",
        "lambda ARGUMENTOS: OPERACIÓN\r\n",
        "```\r\n",
        "Donde `lambda` es la sentencia para declarar la función, `ARGUMENTOS` son los parámetros que recibirá la función y `OPERACIÓN` es el resultado que se desea obtener. \r\n",
        "\r\n",
        "Ejemplo:"
      ],
      "id": "pgmcQn7Cy6b7"
    },
    {
      "cell_type": "code",
      "metadata": {
        "colab": {
          "base_uri": "https://localhost:8080/"
        },
        "id": "tiNsAEt83ONQ",
        "outputId": "749489f6-64ee-4d1c-f29e-82c97e7a1235"
      },
      "source": [
        "# Definición de la función lambda asignada a una variable llamada cuadrado\r\n",
        "cuadrado = lambda numero: numero*2\r\n",
        "\r\n",
        "# Llamada a la función lambda almacenada en cuadrado\r\n",
        "cuadrado(2)"
      ],
      "id": "tiNsAEt83ONQ",
      "execution_count": 14,
      "outputs": [
        {
          "output_type": "execute_result",
          "data": {
            "text/plain": [
              "4"
            ]
          },
          "metadata": {
            "tags": []
          },
          "execution_count": 14
        }
      ]
    },
    {
      "cell_type": "markdown",
      "metadata": {
        "id": "ygg_p85j6hUm"
      },
      "source": [
        "# Conclusiones\r\n",
        "\r\n",
        "*   Las funciones sirven para dividir y organizar el código en partes más sencillas.\r\n",
        "*   Las funciones encapsulan el código que se repite a lo largo de un programa para ser reutilizado.\r\n",
        "*   La sentencia return es opcional, puede devolver, o no, un valor.\r\n",
        "*   Python, internamente, devuelve por defecto el valor `None` cuando en una función no aparece la sentencia return o esta no devuelve nada.\r\n",
        "*   Una función puede recibir o no parámetros.\r\n",
        "*   Toda función lambda también puede expresarse como una convencional, pero no viceversa.\r\n",
        "\r\n"
      ],
      "id": "ygg_p85j6hUm"
    },
    {
      "cell_type": "markdown",
      "metadata": {
        "id": "bQH2D7zX8O1J"
      },
      "source": [
        "# Referencias\r\n",
        "\r\n",
        "\r\n",
        "\r\n",
        "1.   Covantec R.L. (2014–2019). 5.2. Funciones — Materiales del entrenamiento de programación en Python - Nivel básico. Programación En Python - Nivel Básico. https://entrenamiento-python-basico.readthedocs.io/es/latest/leccion5/funciones.html\r\n",
        "2.   Lozano Gómez, J. J. (2020). Funciones en Python: Definición de función y para qué se utilizan. J2LOGO. https://j2logo.com/python/tutorial/funciones-en-python/\r\n",
        "3.   J.E. (2009). 3. Funciones — Cómo Pensar como un Informático: El aprender con Python vEd 2 documentation. Open Book Project. http://www.openbookproject.net/thinkcs/archive/python/spanish2e/cap03.html\r\n",
        "4.   Costa, H. (2018). Funciones lambda | Curso de Python | Hektor Profe. Hektor Profe. https://docs.hektorprofe.net/python/funcionalidades-avanzadas/funciones-lambda/\r\n",
        "5.   Lubanovic, B. (2019). Introducing Python: Modern Computing in Simple Packages (2nd ed.). O’Reilly Media.\r\n",
        "\r\n"
      ],
      "id": "bQH2D7zX8O1J"
    }
  ]
}