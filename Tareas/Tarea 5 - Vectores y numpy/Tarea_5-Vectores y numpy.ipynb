{
  "nbformat": 4,
  "nbformat_minor": 0,
  "metadata": {
    "colab": {
      "name": "Tarea 5.ipynb",
      "provenance": []
    },
    "kernelspec": {
      "name": "python3",
      "display_name": "Python 3"
    }
  },
  "cells": [
    {
      "cell_type": "markdown",
      "metadata": {
        "id": "1qW_nxZmM7z_"
      },
      "source": [
        "![logo](https://github.com/alejandrolq/Ciencia-de-Datos-en-Python/blob/main/Tareas/Tarea%202%20-%20Git/images/logo.png?raw=1)"
      ]
    },
    {
      "cell_type": "markdown",
      "metadata": {
        "id": "REl8HGmFM7mN"
      },
      "source": [
        "**Nombre: José Alejandro López Quel**\r\n",
        "\r\n",
        "**Carné: 21001127**\r\n",
        "\r\n",
        "**Ciencia de Datos en Python**\r\n",
        "\r\n",
        "**Sección U**\r\n",
        "\r\n",
        "**Tarea 5**"
      ]
    },
    {
      "cell_type": "code",
      "metadata": {
        "id": "CRqtzFmnNGlh"
      },
      "source": [
        "import numpy as np"
      ],
      "execution_count": 14,
      "outputs": []
    },
    {
      "cell_type": "markdown",
      "metadata": {
        "id": "owbYyBEzphL6"
      },
      "source": [
        "**Ejercicio 1 :** En data science y programación científica es común necesitar vectores con valores dentro de cierto intervalo, pero con sub-intervalos internos con diference espaciamiento ,por ejemplo:\r\n",
        "\r\n",
        "[0.  , 0.1 , 0.2 , 0.3 , 0.4 , 0.5 , 0.51, 0.52, 0.53, 0.54, 0.55,\r\n",
        "       0.56, 0.57, 0.58, 0.59, 0.6 , 0.7 , 0.8 , 0.9 , 1.  ]\r\n",
        "       \r\n",
        "El primer sub-intervalo incrementa de 0.1 en 0.1 , el segundo de 0.01 en 0.01 , y el tercero de 0.1 en 0.1 nuevamente.\r\n",
        "\r\n",
        "Usando unicamente NumPy crea un vector de este tipo con el nombre xs .\r\n",
        "\r\n",
        "**nota**: no es permitido usar ciclos, debe realizarse con operaciones \"vectorizadas\" de numpy"
      ]
    },
    {
      "cell_type": "code",
      "metadata": {
        "colab": {
          "base_uri": "https://localhost:8080/"
        },
        "id": "cQyYipTvNTXb",
        "outputId": "d03d6f65-6c87-41a6-95a8-aaff07067005"
      },
      "source": [
        "x = np.linspace(0,0.6,6,endpoint=False,retstep=False)\r\n",
        "y = np.linspace(0.51,0.61,10,endpoint=False,retstep=False)\r\n",
        "z = np.linspace(0.7,1.1,4,endpoint=False,retstep=False)\r\n",
        "\r\n",
        "xs = np.hstack((x,y,z))\r\n",
        "xs"
      ],
      "execution_count": 15,
      "outputs": [
        {
          "output_type": "execute_result",
          "data": {
            "text/plain": [
              "array([0.  , 0.1 , 0.2 , 0.3 , 0.4 , 0.5 , 0.51, 0.52, 0.53, 0.54, 0.55,\n",
              "       0.56, 0.57, 0.58, 0.59, 0.6 , 0.7 , 0.8 , 0.9 , 1.  ])"
            ]
          },
          "metadata": {
            "tags": []
          },
          "execution_count": 15
        }
      ]
    },
    {
      "cell_type": "markdown",
      "metadata": {
        "id": "6eBGjLaPPcUb"
      },
      "source": [
        "**Ejercicio 2 :** En este caso usamos un ciclo  para ejemplificar pero ya hemos mencionado que debemos evitarlos siempre que sea posible y usar operaciones \"vectorizadas\" ya que es mucho mas rápido al utilizar  código pre-compilado de C, en este ejercicio debemos remplazar el calculo de ys para hacerlo de manera \"vectorizada\" y eliminar el ciclo for. \r\n",
        "\r\n",
        "**tip**: usar slicing"
      ]
    },
    {
      "cell_type": "code",
      "metadata": {
        "colab": {
          "base_uri": "https://localhost:8080/"
        },
        "id": "lwkp53TsPhZg",
        "outputId": "9758733a-bfda-4b9c-b36f-b3333e2e613c"
      },
      "source": [
        "import matplotlib.pyplot as plt\r\n",
        "\r\n",
        "sample_points = 10000\r\n",
        "inicio_intervalo = 0\r\n",
        "ruido = 0.5*np.random.randn(sample_points) #el ruido comunmente se debe a aleatoriedad o captura no exacta de info.\r\n",
        "x = np.linspace(inicio_intervalo,5*np.pi,sample_points) \r\n",
        "y = np.sin(x) + ruido\r\n",
        "\r\n",
        "#ys es \"y suavizado\", inicialmente es una copia de y\r\n",
        "ys =  y.copy()\r\n",
        "\r\n",
        "res = np.cumsum(ys, dtype=float)\r\n",
        "res[3:] = res[3:] - res[:-3]\r\n",
        "result = np.hstack((ys[0], res[2:] / 3, ys[-1]))\r\n",
        "\r\n",
        "result\r\n"
      ],
      "execution_count": 16,
      "outputs": [
        {
          "output_type": "execute_result",
          "data": {
            "text/plain": [
              "array([-0.31938362, -0.23703026, -0.21313799, ..., -0.297354  ,\n",
              "       -0.1746761 , -0.87627207])"
            ]
          },
          "metadata": {
            "tags": []
          },
          "execution_count": 16
        }
      ]
    },
    {
      "cell_type": "markdown",
      "metadata": {
        "id": "CjNoOnE7TxP3"
      },
      "source": [
        "**Ejercicio 3 :** Para calcular la información de una distribución de probabilidad necesitamos calcular el producto entre la información de cada posible x y su probabilidad , cada uno de estos elementos nos indica cuanta incerteza aporta cada x a la entropía de la distribución. Crea una función que calcule esto, debe recibir un vector representando a la dist. de probabilidad y devoler otro vector con el termino de entropía para cada x. Por ejemplo:\r\n",
        "\r\n",
        "calcular_entropia([0.25,0.75])\r\n",
        "\r\n",
        "Debe resultar en :\r\n",
        "\r\n",
        "[0.5    ,    0.31127812]\r\n",
        "\r\n",
        "**Nota**: la entropía es la suma sobre estos valores, en este caso no calculamos la entropía,unicamente los termimos de su sumatoria. La entropía es:\r\n",
        "\r\n",
        "$$S = -\\sum_i^nP(x_{i})log_{2}P(x_{i})$$"
      ]
    },
    {
      "cell_type": "code",
      "metadata": {
        "colab": {
          "base_uri": "https://localhost:8080/"
        },
        "id": "fgilnqMvQF0r",
        "outputId": "8b3fef7d-0167-49e0-ad6f-20f094596640"
      },
      "source": [
        "def calcular_entropia(dist_probabilidad):\r\n",
        "  return - dist_probabilidad*np.log2(dist_probabilidad)\r\n",
        "\r\n",
        "calcular_entropia(np.array([0.25, 0.75]))"
      ],
      "execution_count": 17,
      "outputs": [
        {
          "output_type": "execute_result",
          "data": {
            "text/plain": [
              "array([0.5       , 0.31127812])"
            ]
          },
          "metadata": {
            "tags": []
          },
          "execution_count": 17
        }
      ]
    },
    {
      "cell_type": "markdown",
      "metadata": {
        "id": "RfLFoEhkVuw8"
      },
      "source": [
        "**Ejercicio 4 :** Se ha determinado también que hay costos asociados a la comunicación y relación con los clientes(llamadas,mensajes electrónicos,etc) y que estos también tienen alta correlación con el monto que estos gastan en su primer més siguiendo el modelo:\r\n",
        "$$c(x) = (x^{2} + x + log (0.0001x)-\\sqrt{0.54x})/100$$\r\n",
        "\r\n",
        "Cree una función para calcular este modelo sobre valores de de gasto de nuevos clientes , y luego cree una función  **ganancia_neta(x,g,c)** donde:\r\n",
        "* x = vector conteniendo los valores de gasto del primer mes para nuevos clientes.\r\n",
        "* g = función que estima la ganancia en función de x\r\n",
        "* c = función que estima el costo en función de x\r\n",
        "\r\n",
        "La función realiza el calculo simple **g(x) - c(x)** , ya que es posible que los modelos cambien en el tiempo es común recibir como parámetro el modelo o modelos hijos de un modelo mas grande , en este caso eso se logra recibiendo como parámetro las funciones de ganancia y costo."
      ]
    },
    {
      "cell_type": "code",
      "metadata": {
        "colab": {
          "base_uri": "https://localhost:8080/"
        },
        "id": "LF6FLqN6VA1Z",
        "outputId": "5c557ae0-527d-4f5a-ee3a-64d2a52975d6"
      },
      "source": [
        "def ganancia2(x):\r\n",
        "  return np.power(x,2)\r\n",
        "\r\n",
        "def costos(x):\r\n",
        "  return (np.power(x,2) + x + np.log(0.0001*x) - np.sqrt(0.54*x))/100\r\n",
        "\r\n",
        "def ganancia_neta(x,g,c):\r\n",
        "  return g(x) - c(x)\r\n",
        "\r\n",
        "x = np.array([ -5.3,  -1. ,   0. ,   1.5,  10. , 100. ])\r\n",
        "\r\n",
        "ganancia_neta(x,ganancia2,costos)"
      ],
      "execution_count": 18,
      "outputs": [
        {
          "output_type": "stream",
          "text": [
            "/usr/local/lib/python3.7/dist-packages/ipykernel_launcher.py:5: RuntimeWarning: divide by zero encountered in log\n",
            "  \"\"\"\n",
            "/usr/local/lib/python3.7/dist-packages/ipykernel_launcher.py:5: RuntimeWarning: invalid value encountered in log\n",
            "  \"\"\"\n",
            "/usr/local/lib/python3.7/dist-packages/ipykernel_launcher.py:5: RuntimeWarning: invalid value encountered in sqrt\n",
            "  \"\"\"\n"
          ],
          "name": "stderr"
        },
        {
          "output_type": "execute_result",
          "data": {
            "text/plain": [
              "array([           nan,            nan,            inf, 2.30954875e+00,\n",
              "       9.89923155e+01, 9.89911954e+03])"
            ]
          },
          "metadata": {
            "tags": []
          },
          "execution_count": 18
        }
      ]
    },
    {
      "cell_type": "markdown",
      "metadata": {
        "id": "XJkZY4m0Ynr7"
      },
      "source": [
        "**Ejercicio 5 :** Usando argmax crear una función mode(x) para calcular la moda de un vector x , esta función debe devolver una tupla de 2 elementos de la forma:\r\n",
        "\r\n",
        "(valor,conteo)\r\n",
        "\r\n",
        "**tip** investigar y auxiliarse de otras funciones de numpy y np.argmax, no olvidar trabajar todo vectorizado, sin ciclos."
      ]
    },
    {
      "cell_type": "code",
      "metadata": {
        "colab": {
          "base_uri": "https://localhost:8080/"
        },
        "id": "KVmqw5eWXBQP",
        "outputId": "c497e11e-bcaf-4d2a-9573-02138d68c8bc"
      },
      "source": [
        "def mode(x):\r\n",
        "    valores,conteo = np.unique(x, return_counts=True)\r\n",
        "    i = np.argmax(conteo)\r\n",
        "    return valores[i], conteo[i]\r\n",
        "\r\n",
        "x = np.array([1,2,3,1,2,1,1,1,3,2,2,1,1,2,2,2,2,2])    \r\n",
        "print(mode(x))"
      ],
      "execution_count": 19,
      "outputs": [
        {
          "output_type": "stream",
          "text": [
            "(2, 9)\n"
          ],
          "name": "stdout"
        }
      ]
    },
    {
      "cell_type": "markdown",
      "metadata": {
        "id": "SKhxBma1cPla"
      },
      "source": [
        "**Ejercicio 6 :** Crear una función para calcular la entropía  de una distribución de probabilidad representada como un vector.\r\n",
        "$$S = -\\sum_i^nP(x_{i})log_{2}P(x_{i})$$\r\n",
        "\r\n",
        "**Nota**: a diferencia del ejercicio anterior donde solo calculamos los términos de la entropía, en este caso  si calculamos el valor completo de la entropía, que como mencionamos es una medida de incerteza en una distribución de probabilidad.\r\n",
        "\r\n",
        "**recordatorio**: no usar ciclos solo operaciones vectorizadas."
      ]
    },
    {
      "cell_type": "code",
      "metadata": {
        "colab": {
          "base_uri": "https://localhost:8080/"
        },
        "id": "wwL0T_9FaZMF",
        "outputId": "5cd81a81-ed61-421b-815f-82ee3765215f"
      },
      "source": [
        "dist_a = np.array([0.3,0.5,0.2])\r\n",
        "\r\n",
        "def calcular_entropia(dist_probabilidad):\r\n",
        "  return - np.nansum(dist_probabilidad*np.log2(dist_probabilidad))\r\n",
        "\r\n",
        "calcular_entropia(dist_a)"
      ],
      "execution_count": 20,
      "outputs": [
        {
          "output_type": "execute_result",
          "data": {
            "text/plain": [
              "1.4854752972273344"
            ]
          },
          "metadata": {
            "tags": []
          },
          "execution_count": 20
        }
      ]
    },
    {
      "cell_type": "markdown",
      "metadata": {
        "id": "-qIyY87JdMrD"
      },
      "source": [
        "**Ejercicio 7 :** En ML usamos la entropía cruzada como una forma de medir que tan bueno es un modelo de variables discretas a través de comparar la distribución de probabilidad que el modelo produce o predice, vs la distribución de probabilidad real dada por los datos de entrenamiento.\r\n",
        "\r\n",
        "Podemos ver el siguiente ejemplo que define la forma en que se calcula la entropía cruzada y nos muestra un caso específico:\r\n",
        "\r\n",
        "<img src=\"https://image.slidesharecdn.com/publishintroductiontodeeplearninginpythonandmatlab1-160502102437/95/introduction-to-deep-learning-in-python-and-matlab-54-638.jpg?cb=1462185644\">\r\n",
        "\r\n",
        "En este caso interpretamos así: El problema consiste en un modelo o algoritmo de ML que debe producir un vector de 3 elementos indicando la probabilidad de que ciertos datos X pertenezcan a una de 3 categorías.\r\n",
        "\r\n",
        "* El modelo de ML produce un vector que indica que estima un 70% de probabilidad de que se trate de la categoría 0, 20% de probabilidad de que se trate de la categoría 1 y 10% de que se trate de la categoría 2.\r\n",
        "* Los datos reales nos dicen que se trataba de un caso donde con total certeza se sabe que se trata de la categoría 0\r\n",
        "* La entropía cruzada(a calcular en el ejercicio) nos indica que tan buena es la estimación del modelo, una EC de 0 es un modelo perfecto(en este caso un modelo que predice 100% de prob para la clase 0)\r\n",
        "\r\n",
        "**Nota** \r\n",
        "* Aun que para calcular la entropía usamos logaritmos en base 2, en ML para calcular la entropía cruzada se usa logaritmo natural ya que con este se cumple el proposito **estimar que tanto se alejan las predicciones del modelo de ML de los datos reales** y es comunmente mas rápido de calcular en la computadora.\r\n",
        "* Ya que estamos trabajando con vectores que representan distribuciones de probabilidad , podemos toparnos con lo que se conoce como : **sparse vectors**(vectores donde la mayoría de elementos son 0), esto puede producir problemas ya que le logaritmo de 0 no esta definido, tu solución debe tomar en cuenta esto y evitar que devuelva \"nan\""
      ]
    },
    {
      "cell_type": "code",
      "metadata": {
        "colab": {
          "base_uri": "https://localhost:8080/"
        },
        "id": "cMIVjPkTctVt",
        "outputId": "94fd3dd8-ca90-4b42-9d69-569e20f81a3f"
      },
      "source": [
        "def cross_entropy(Y,Y_hat):\r\n",
        "    return - np.nansum(Y*np.log(Y_hat))    \r\n",
        "\r\n",
        "y  = np.array([1.0,0,0])\r\n",
        "y_hat = np.array([0.7,0.2,0.1]) # <- resultado de algun modelo predictivo\r\n",
        "\r\n",
        "cross_entropy(y,y_hat)"
      ],
      "execution_count": 21,
      "outputs": [
        {
          "output_type": "execute_result",
          "data": {
            "text/plain": [
              "0.35667494393873245"
            ]
          },
          "metadata": {
            "tags": []
          },
          "execution_count": 21
        }
      ]
    },
    {
      "cell_type": "markdown",
      "metadata": {
        "id": "qsVj1TY8ef9i"
      },
      "source": [
        "**Ejercicio 8 :** Crear una función que reciba como parámetro un vector x y calcule su magnitud o norma(euclidiana o L2) ,luego usarla para evaluar 2 vectores que representan los errores generados por 2 modelos de machine learning y concluir cual de los 2 modelos es mejor."
      ]
    },
    {
      "cell_type": "code",
      "metadata": {
        "colab": {
          "base_uri": "https://localhost:8080/"
        },
        "id": "OfqCGe_reMhM",
        "outputId": "1ae4addc-954b-41c6-f107-b0b939e57caa"
      },
      "source": [
        "def magnitud(x):\r\n",
        "    return np.sqrt(np.sum(np.power(x,2)))\r\n",
        "\r\n",
        "errores_modelo1 = np.array([1,2,1,2]) \r\n",
        "errores_modelo2 = np.array([0,1,1,2])\r\n",
        "\r\n",
        "print(magnitud(errores_modelo1))\r\n",
        "print(magnitud(errores_modelo2))\r\n",
        "\r\n",
        "if magnitud(errores_modelo1) < magnitud(errores_modelo2):\r\n",
        "  print('El modelo 1 es mejor')\r\n",
        "else:\r\n",
        "  print('El modelo 2 es mejor')"
      ],
      "execution_count": 22,
      "outputs": [
        {
          "output_type": "stream",
          "text": [
            "3.1622776601683795\n",
            "2.449489742783178\n",
            "El modelo 2 es mejor\n"
          ],
          "name": "stdout"
        }
      ]
    },
    {
      "cell_type": "markdown",
      "metadata": {
        "id": "WWF7-wOaf8hB"
      },
      "source": [
        "**Ejercicio 9 :** Usando la función del ejercicio anterior, crea otra función normalizar(x) que reciba de parámetro un vector x aplique normalización sobre este, el resultado debe ser un nuevo vector del tamaño de x cuya magnitud es igual a 1.0"
      ]
    },
    {
      "cell_type": "code",
      "metadata": {
        "colab": {
          "base_uri": "https://localhost:8080/"
        },
        "id": "iDIHfkbTe56s",
        "outputId": "a348aa40-3213-40ea-f947-f0cd57b9bb48"
      },
      "source": [
        "def normalizar(x):\r\n",
        "    return x/magnitud(x)\r\n",
        "    \r\n",
        "print(magnitud(normalizar(errores_modelo1)))\r\n",
        "print(normalizar(errores_modelo2))"
      ],
      "execution_count": 23,
      "outputs": [
        {
          "output_type": "stream",
          "text": [
            "1.0\n",
            "[0.         0.40824829 0.40824829 0.81649658]\n"
          ],
          "name": "stdout"
        }
      ]
    },
    {
      "cell_type": "markdown",
      "metadata": {
        "id": "i33AXGfDht1V"
      },
      "source": [
        "**Ejercicio 10 :** Se tiene una red neuronal sencilla(y simplificada) como la de la siguiente imagen:\r\n",
        "<img src=\"https://www.oreilly.com/library/view/practical-convolutional-neural/9781788392303/assets/246151fb-7893-448d-b9bb-7a87b387a24b.png\">\r\n",
        "\r\n",
        "Donde:\r\n",
        "* INPUT LAYER: un vector X de tamaño = 2 que representa los datos de entrada\r\n",
        "* HIDDEN_LAYER :capa oculta con 2 neuronas definidas por los vectores:\r\n",
        "    * HL1 = [0.25,0.37]\r\n",
        "    * HL2 = [-8,14]\r\n",
        "* OUTPUT_LAYER = capa de salida definida por el vector [4,9]\r\n",
        "\r\n",
        "Crear una funcion neural_network(X) para calcular:\r\n",
        "* Calcule la salida de cada neurona en la capa intermedia aplicada a la capa de entrada.\r\n",
        "* Use el resultado del paso anterior como entrada para la neurona en la capa de salida\r\n",
        "\r\n",
        "Asumiendo que cada neurona identifica la similitud entre su entrada y la caracteística que representa concluir:\r\n",
        "* Para cada vector de entrada Xi , cual neurona intermedia busca la característica que mas se parece a X.\r\n",
        "* Cual vector de entrada Xi produce una activación alta(salida alta) en la capa de salida."
      ]
    },
    {
      "cell_type": "code",
      "metadata": {
        "colab": {
          "base_uri": "https://localhost:8080/"
        },
        "id": "A90FuGTygyGA",
        "outputId": "dc0d67a6-4774-4ffa-f2b3-f6c4a42f9256"
      },
      "source": [
        "# Aplicar la red neuronal sobre los siguientes datos X\r\n",
        "X1 = np.array([0.50,0.72])\r\n",
        "X2 = np.array([-4,7])\r\n",
        "X3 = np.zeros_like(X2)\r\n",
        "X4 = np.ones_like(X1)\r\n",
        "X5 = np.random.randn(X1.shape[0])\r\n",
        "\r\n",
        "def neural_network(X):\r\n",
        "  HL1 = np.array([0.25,0.37])\r\n",
        "  HL2 = np.array([-8,14])\r\n",
        "  OUTPUT_LAYER = [4,9]\r\n",
        "  print(\"-------------\")\r\n",
        "  O_HL1 = np.dot(HL1,X)\r\n",
        "  print('Resultado Neurona 1: ' + str(O_HL1))\r\n",
        "  O_HL2 = np.dot(HL2,X)\r\n",
        "  print('Resultado Neurona 2: ' + str(O_HL2))\r\n",
        "  O_OUT_LAYER = np.dot(OUTPUT_LAYER, np.array([O_HL1, O_HL2]))\r\n",
        "  return O_OUT_LAYER\r\n",
        "\r\n",
        "print(neural_network(X1))\r\n",
        "print(neural_network(X2))\r\n",
        "print(neural_network(X3))\r\n",
        "print(neural_network(X4))\r\n",
        "print(neural_network(X5))\r\n"
      ],
      "execution_count": 24,
      "outputs": [
        {
          "output_type": "stream",
          "text": [
            "-------------\n",
            "Resultado Neurona 1: 0.39139999999999997\n",
            "Resultado Neurona 2: 6.08\n",
            "56.2856\n",
            "-------------\n",
            "Resultado Neurona 1: 1.5899999999999999\n",
            "Resultado Neurona 2: 130\n",
            "1176.36\n",
            "-------------\n",
            "Resultado Neurona 1: 0.0\n",
            "Resultado Neurona 2: 0\n",
            "0.0\n",
            "-------------\n",
            "Resultado Neurona 1: 0.62\n",
            "Resultado Neurona 2: 6.0\n",
            "56.48\n",
            "-------------\n",
            "Resultado Neurona 1: -0.10977781027106936\n",
            "Resultado Neurona 2: 22.756660572896305\n",
            "204.37083391498246\n"
          ],
          "name": "stdout"
        }
      ]
    },
    {
      "cell_type": "markdown",
      "metadata": {
        "id": "oUGn5lifmJIn"
      },
      "source": [
        "**Respuestas**\r\n",
        "\r\n",
        "1.   La neurona HL1 es la neurona intermedia que busca la caracteristica que mas se parece a X.\r\n",
        "2.   El vector X2 es el que produce una activación alta en la capa de salida.\r\n",
        "\r\n"
      ]
    },
    {
      "cell_type": "markdown",
      "metadata": {
        "id": "VgvpyATLm0lv"
      },
      "source": [
        "**Ejercicio 11 :** La correlación cruzada es una medida de similitud entre 2 funciones como resultado de \"desplazar\" una sobre la otra, comunmente es usada para encontrar características relevantes en una función desconocida o no controlada.\r\n",
        "\r\n",
        "En procesamiento de señales por ejemplo es usada para buscar y/o filtrar en una señal que varia en el tiempo cierta caracaterística de interés. Aveces es llamada también \"sliding dot product\" consiste en aplicar en cada punto de una función F el producto punto con cierta función G(comunmente mas corta) y luego \"deslizar\" G a un nuevo punto de la función, el resultado es una nueva función H que se interpreta como :**cuanto se parece** en cada punto la función F a la característica G. \r\n",
        "\r\n",
        "<img src=\"https://i.makeagif.com/media/11-25-2015/LZ9Ufj.gif\">\r\n",
        "\r\n",
        "En este ejercicio usamos correlación cruzada para calcular las medias moviles promediando 3 puntos que ya vimos en otro ejemplo:\r\n",
        "\r\n",
        "El primer paso es definir la función G que define el \"filtro\" a aplicar, para este caso consiste simplemente en un vector con 3 elementos donde cada elemento corresponde a 1/3, luego debemos aplicar el producto punto sobre cada punto de la función o datos originales(en este ejemplo llamados x) a traves aplicar el producto punto en cada elemento \"corriendolo\" de uno en uno"
      ]
    },
    {
      "cell_type": "code",
      "metadata": {
        "id": "NMyk95FHlF5N"
      },
      "source": [
        "ruido = 0.1*np.random.randn(15) #el ruido comunmente se debe a aleatoriedad o captura no exacta de info.\r\n",
        "x = np.linspace(0,2*np.pi,15) \r\n",
        "y = np.sin(x) + ruido\r\n",
        "\r\n",
        "filtro = np.array([1/3,1/3,1/3]) #para lograr las medias moviles a traves de correlacion cruzada\r\n"
      ],
      "execution_count": 25,
      "outputs": []
    },
    {
      "cell_type": "markdown",
      "metadata": {
        "id": "R-n36mPlqRzb"
      },
      "source": [
        "**Ejercicio 12 :** Dado el vector x, usar operadores lógicos sobre vectores y acceso a  elementos usando vectores booleanos , escribir un programa que calcule eun nuevo vector z conteniendo el valor absoluto de el vector x.\r\n",
        "\r\n",
        "**nota** No se puede usar np.abs() ni ciclos\r\n",
        "\r\n",
        "**tip** usar un vector booleano para saber que elementos son negativos y deben ser multiplicados por -1"
      ]
    },
    {
      "cell_type": "code",
      "metadata": {
        "colab": {
          "base_uri": "https://localhost:8080/"
        },
        "id": "Ilr0tq6nqUmN",
        "outputId": "418d1096-f420-4f38-b0f2-2344c62e9cdb"
      },
      "source": [
        "x = np.linspace(-2,2,9)\r\n",
        "\r\n",
        "## tu codigo aqui (~ 4 linea de codigo)\r\n",
        "### ver cuales elementos son negativos <- vector booleanos\r\n",
        "### multiplicar esos elementos por -1\r\n",
        "### usando el vector del rpimer paso remplazar los que eran negativos por su valor calculado en paso 2\r\n",
        "\r\n",
        "x[x<0] = x[x<0] * -1\r\n",
        "\r\n",
        "x"
      ],
      "execution_count": 26,
      "outputs": [
        {
          "output_type": "execute_result",
          "data": {
            "text/plain": [
              "array([2. , 1.5, 1. , 0.5, 0. , 0.5, 1. , 1.5, 2. ])"
            ]
          },
          "metadata": {
            "tags": []
          },
          "execution_count": 26
        }
      ]
    },
    {
      "cell_type": "markdown",
      "metadata": {
        "id": "QeYy10SlqVES"
      },
      "source": [
        "**Ejercicio 13 :** Implementar la función:\r\n",
        "$$h(x) = \\begin{cases}0 & x< 0\\\\1 & 0<=x <=1\\\\0 & x> 1\\end{cases}$$\r\n",
        "\r\n",
        "Esta debe funcionar para vectores de cualquier tamaño x:\r\n",
        "\r\n",
        "def h(x):\r\n",
        "\r\n",
        "    ...\r\n",
        "\r\n",
        "**nota** debe ser implementada sin ciclos o ifs "
      ]
    },
    {
      "cell_type": "code",
      "metadata": {
        "colab": {
          "base_uri": "https://localhost:8080/"
        },
        "id": "n0WN7I4Sqd6p",
        "outputId": "a9396776-0185-40dd-9a51-5ff3d43bcfe5"
      },
      "source": [
        "def h(x):\r\n",
        "    condiciones = [x<0 , (x>=0) & (x<=1), x > 1]\r\n",
        "    resultados =  [0, 1, 0]\r\n",
        "    return np.select(condiciones,resultados)\r\n",
        "\r\n",
        "x = np.array([0.1,-2,0.5,5])\r\n",
        "print(h(x))"
      ],
      "execution_count": 27,
      "outputs": [
        {
          "output_type": "stream",
          "text": [
            "[1 0 1 0]\n"
          ],
          "name": "stdout"
        }
      ]
    },
    {
      "cell_type": "markdown",
      "metadata": {
        "id": "vV3_mMjbquzM"
      },
      "source": [
        "**Ejercicio**\r\n",
        "\r\n",
        "Usando select implementar una función k(x) con la siguiente definición:\r\n",
        "$$k(x) = \\begin{cases}-x & x< 0\\\\x^{3}  &0<=x<1\\\\x^{2}  &1<=x<2\\\\4  &otherwise\\end{cases}$$"
      ]
    },
    {
      "cell_type": "code",
      "metadata": {
        "colab": {
          "base_uri": "https://localhost:8080/"
        },
        "id": "vj0fECwEqvPf",
        "outputId": "069479fc-6b48-4a7e-81c2-20ab1102b630"
      },
      "source": [
        "def k(x):\r\n",
        "    condiciones = [x<0 , (x>=0) & (x<1), (x>=1) & (x<2)]\r\n",
        "    resultados =  [-x, np.power(x,3), np.power(x,2)]\r\n",
        "    return np.select(condiciones,resultados, 4)\r\n",
        "\r\n",
        "x = np.array([0.1,-2,0.5,5, 1])\r\n",
        "print(k(x))"
      ],
      "execution_count": 28,
      "outputs": [
        {
          "output_type": "stream",
          "text": [
            "[1.00e-03 2.00e+00 1.25e-01 4.00e+00 1.00e+00]\n"
          ],
          "name": "stdout"
        }
      ]
    },
    {
      "cell_type": "markdown",
      "metadata": {
        "id": "Zej4LEH5q4aT"
      },
      "source": [
        "**Ejercicio** \r\n",
        "Investigar piecewise y:\r\n",
        "*  Usarlo para implementar la función anterior de manera eficiente\r\n",
        "*  Usar piscewise para implementar la función:\r\n",
        "\r\n",
        "$$m(x) = \\begin{cases}e^{2x} & x< 0\\\\1  &0<=x<1\\\\e^{1-x}  &x<=1\\\\\\end{cases}$$\r\n",
        "\r\n",
        "Nuevamente, sin utilizar ciclos ni ifs"
      ]
    },
    {
      "cell_type": "code",
      "metadata": {
        "colab": {
          "base_uri": "https://localhost:8080/"
        },
        "id": "bVKlhq0dq4zP",
        "outputId": "14f4776c-c1cc-498d-8a02-1eda38a87f53"
      },
      "source": [
        "def k(x):\r\n",
        "    return np.piecewise(x, [x<0 , (x>=0) & (x<1), (x>=1) & (x<2)], [lambda x: -x, lambda x: np.power(x,3), lambda x: np.power(x,2), 4])\r\n",
        "\r\n",
        "x = np.array([0.1,-2,0.5,5, 1])\r\n",
        "print(k(x))"
      ],
      "execution_count": 29,
      "outputs": [
        {
          "output_type": "stream",
          "text": [
            "[1.00e-03 2.00e+00 1.25e-01 4.00e+00 1.00e+00]\n"
          ],
          "name": "stdout"
        }
      ]
    },
    {
      "cell_type": "code",
      "metadata": {
        "colab": {
          "base_uri": "https://localhost:8080/"
        },
        "id": "EkQ4YAZ3wz4z",
        "outputId": "56f498cd-c054-43c9-fd58-86dddbd8ac71"
      },
      "source": [
        "def k(x):\r\n",
        "    return np.piecewise(x, [x<0 , (x>=0) & (x<1), (x>=1)], [lambda x: np.power(np.e, 2*x), 1, lambda x: np.power(np.e, 1-x)])\r\n",
        "\r\n",
        "x = np.array([0.1,-2,0.5,5, 1])\r\n",
        "print(k(x))"
      ],
      "execution_count": 30,
      "outputs": [
        {
          "output_type": "stream",
          "text": [
            "[1.         0.01831564 1.         0.01831564 1.        ]\n"
          ],
          "name": "stdout"
        }
      ]
    },
    {
      "cell_type": "markdown",
      "metadata": {
        "id": "fLXoE0NVq-Wk"
      },
      "source": [
        "#### Investigar\r\n",
        "\r\n",
        "* Proyección vectorial\r\n",
        "    * Definir una función para calculo en numpy\r\n",
        "    * interpretación\r\n",
        "    * aplicación o caso de uso en DS u otras ciencias de tu interés: solo se necesita nombrar el caso de uso, no desarrollarlo o programarlo, tip: Hay un algoritmo de ML cuyo nombre puede ser  útil.\r\n",
        "* Producto cruz\r\n",
        "    * calculo en numpy\r\n",
        "    * interpretación\r\n",
        "    * aplicación o caso de uso en DS u otras ciencias de tu interés: solo se necesita nombrar el caso de uso, no desarrollarlo o programarlo"
      ]
    },
    {
      "cell_type": "markdown",
      "metadata": {
        "id": "zZ9FHksXxvbV"
      },
      "source": [
        "### Proyección Vectorial\r\n",
        "#### Función para calculo en numpy\r\n",
        "La proyección vectorial esta dada por:\r\n",
        "\r\n",
        "<img src=\"https://www.geeksforgeeks.org/wp-content/ql-cache/quicklatex.com-88bbab4b50b8b737fe3ee634b2a9e23d_l3.svg\">\r\n",
        "\r\n",
        "Por lo que la función de proyección utilizando numpy se puede definir como se presenta a continuación."
      ]
    },
    {
      "cell_type": "code",
      "metadata": {
        "colab": {
          "base_uri": "https://localhost:8080/"
        },
        "id": "ch0Kszcax9Px",
        "outputId": "d9e78639-3b5d-4f3c-bd27-5d1df7fb1d10"
      },
      "source": [
        "u = np.array([1, 2, 3])   # vector u \r\n",
        "v = np.array([5, 6, 2])   # vector v\r\n",
        "\r\n",
        "def proyeccion_vectorial(u, v):\r\n",
        "    v_norm = np.sqrt(sum(v**2))\r\n",
        "    return (np.dot(u, v)/v_norm**2)*v \r\n",
        "  \r\n",
        "print(\"La proyección del vector u en el vector v es: \", proyeccion_vectorial(u,v)) "
      ],
      "execution_count": 31,
      "outputs": [
        {
          "output_type": "stream",
          "text": [
            "La proyección del vector u en el vector v es:  [1.76923077 2.12307692 0.70769231]\n"
          ],
          "name": "stdout"
        }
      ]
    },
    {
      "cell_type": "markdown",
      "metadata": {
        "id": "okM_12jYO7hZ"
      },
      "source": [
        "#### Interpretación de la proyección vectorial\r\n",
        "\r\n",
        "La interpretación que se le da a la proyección vectorial es la cantidad de un vector que va en dirección de otro vector dado, en otras palabras, es la componente de un vector en dirección de otro.\r\n",
        "\r\n",
        "#### Aplicación\r\n",
        "\r\n",
        "La proyección es un concepto muy útil y utilizado por una de las famosas técnicas de reducción de dimensionalidad conocida como PCA (Análisis de componentes principales). Cuando los datos residen en dimensiones muy altas para verlos, se tienen que proyectar a dimensiones más bajas, que es una de las partes más importantes de cualquier técnica de reducción de dimensionalidad donde estas funciones juegan un papel crucial."
      ]
    },
    {
      "cell_type": "markdown",
      "metadata": {
        "id": "kGnbHfNfXHDH"
      },
      "source": [
        "### Proyección Cruz\r\n",
        "#### Función para el calculo en numpy\r\n",
        "\r\n",
        "En numpy existe la función cross, la cual retorna el valor del producto cruz entre dos vectores o arrays de vectores. \r\n",
        "\r\n",
        "```python\r\n",
        "numpy.cross(a, b, axisa=-1, axisb=-1, axisc=-1, axis=None)\r\n",
        "```\r\n",
        "Donde los parametros que recibe son:\r\n",
        "\r\n",
        "a: Componentes del primer vector (es).\r\n",
        "\r\n",
        "b: Componentes del segundo vector (es).\r\n",
        "\r\n",
        "axisa: Eje de a que define el (los) vector (es). Por defecto, el último eje.\r\n",
        "\r\n",
        "axisb: Eje de b que define el (los) vector (es). Por defecto, el último eje.\r\n",
        "\r\n",
        "axisc: Eje de c que contiene el (los) vector (es) de producto cruz. Se ignora si ambos vectores de entrada tienen dimensión 2, ya que el retorno es escalar. Por defecto, el último eje.\r\n",
        "\r\n",
        "axis: Si está definido, el eje de a, b y c que define los vectores y los productos cruz. Anula axisa, axisb y axisc."
      ]
    },
    {
      "cell_type": "code",
      "metadata": {
        "colab": {
          "base_uri": "https://localhost:8080/"
        },
        "id": "j2Mlt0GwMUbF",
        "outputId": "34f8f322-e6bc-4b93-e2cc-c00d965c85e5"
      },
      "source": [
        "x = [1, 2, 3]\r\n",
        "y = [4, 5, 6]\r\n",
        "np.cross(x, y)"
      ],
      "execution_count": 32,
      "outputs": [
        {
          "output_type": "execute_result",
          "data": {
            "text/plain": [
              "array([-3,  6, -3])"
            ]
          },
          "metadata": {
            "tags": []
          },
          "execution_count": 32
        }
      ]
    },
    {
      "cell_type": "markdown",
      "metadata": {
        "id": "J8lM45kVijV7"
      },
      "source": [
        "#### Interpretación de la proyección vectorial\r\n",
        "El producto cruz es uno de los dos productos donde se multiplican dos vectores para obtener otro vector. De ahí que también se le llame producto vectorial. El vector a y el vector b cuando se multiplican de forma cruzada, nos da un vector c que es perpendicular a los vectores a y b. Una de las aplicaciones prácticas del producto cruz es el torque. Se puede observar que todos los tornillos, tapas de botellas de agua y otros objetos que involucran torque tienen ranuras diseñadas de tal manera que se mueven hacia arriba cuando se giran en sentido antihorario y viceversa.\r\n",
        "\r\n",
        "#### Aplicación\r\n",
        "\r\n",
        "El producto cruz desempeña un papel vital en el álgebra lineal para ayudar a resolver una amplia variedad de problemas, dentro de ellos resolver sistemas de ecuaciones. Un ejemplo práctico de esto se puede ver en la implementación de ecuaciones de predicción del modelo de regresión lineal."
      ]
    }
  ]
}
