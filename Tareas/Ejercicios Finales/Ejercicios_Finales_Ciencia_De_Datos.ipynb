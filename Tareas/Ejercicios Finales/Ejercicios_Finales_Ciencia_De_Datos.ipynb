{
  "nbformat": 4,
  "nbformat_minor": 0,
  "metadata": {
    "colab": {
      "name": "Ejercicios_Finales_Ciencia_De_Datos.ipynb",
      "provenance": [],
      "collapsed_sections": []
    },
    "kernelspec": {
      "name": "python3",
      "display_name": "Python 3"
    },
    "language_info": {
      "name": "python"
    }
  },
  "cells": [
    {
      "cell_type": "markdown",
      "metadata": {
        "id": "SEgBHNQ12JKn"
      },
      "source": [
        "![logo](https://github.com/alejandrolq/Ciencia-de-Datos-en-Python/blob/main/Tareas/Tarea%202%20-%20Git/images/logo.png?raw=1)"
      ]
    },
    {
      "cell_type": "markdown",
      "metadata": {
        "id": "nSCHODEB2LDK"
      },
      "source": [
        "**Nombre: José Alejandro López Quel**\n",
        "\n",
        "**Carné: 21001127**\n",
        "\n",
        "**Ciencia de Datos en Python**\n",
        "\n",
        "**Sección U**\n",
        "\n",
        "**Ejercicios Finales**"
      ]
    },
    {
      "cell_type": "markdown",
      "metadata": {
        "id": "AD212LomYL4D"
      },
      "source": [
        "**Ejercicio**: Investigar y ejemplificar diferencias entre np.array y np.matrix"
      ]
    },
    {
      "cell_type": "markdown",
      "metadata": {
        "id": "HRxInWepqpXc"
      },
      "source": [
        "# Numpy Array\n",
        "\n",
        "Un array de numpy (ndarray) es una cuadrícula de valores, todos del mismo tipo, el cual está indexado por una tupla de enteros no negativos. El número de dimensiones es el rango del array; la forma de una matriz es una tupla de números enteros que dan el tamaño del array a lo largo de cada dimensión. Algunas de las ventajas clave de los arrays numpy es que son rápidos, faciles de trabajar con ellos, y ofrece a los usuarios la oportunidad de realizar cálculos a través de arrays completos.\n",
        "\n",
        "Al igual que con otros objetos contenedores en Python, se puede acceder al contenido de un array y modificarlo indexando o dividiendo el arreglo (usando, por ejemplo, N enteros) y mediante los métodos y atributos del ndarray.\n",
        "\n",
        "Diferentes ndarrays pueden compartir los mismos datos, por lo que los cambios realizados en un ndarray pueden ser visibles en otro. Es decir, un ndarray puede ser una \"vista\" de otro ndarray, y el ndarray \"base\" se ocupa de los datos a los que se refiere. ndarrays también pueden ser vistas a la memoria propiedad de cadenas u objetos de Python que implementan las interfaces de búfer o matriz."
      ]
    },
    {
      "cell_type": "code",
      "metadata": {
        "id": "tvuiuU-C3Wv4"
      },
      "source": [
        "import numpy as np"
      ],
      "execution_count": 4,
      "outputs": []
    },
    {
      "cell_type": "code",
      "metadata": {
        "colab": {
          "base_uri": "https://localhost:8080/"
        },
        "id": "N9QE7ETFuEsU",
        "outputId": "b769e503-2c26-44a6-e2eb-7fdfedc6d099"
      },
      "source": [
        "# Declaración de un array de numpy\n",
        "\n",
        "x = np.array([[1, 2, 3], [4, 5, 6]])\n",
        "x"
      ],
      "execution_count": 5,
      "outputs": [
        {
          "output_type": "execute_result",
          "data": {
            "text/plain": [
              "array([[1, 2, 3],\n",
              "       [4, 5, 6]])"
            ]
          },
          "metadata": {
            "tags": []
          },
          "execution_count": 5
        }
      ]
    },
    {
      "cell_type": "code",
      "metadata": {
        "colab": {
          "base_uri": "https://localhost:8080/"
        },
        "id": "R3i6xrykuMM1",
        "outputId": "b2d8681f-09f4-41ac-e48d-5259bdf56683"
      },
      "source": [
        "# Propiedades\n",
        "\n",
        "# Numero de dimensiones\n",
        "x.ndim"
      ],
      "execution_count": 6,
      "outputs": [
        {
          "output_type": "execute_result",
          "data": {
            "text/plain": [
              "2"
            ]
          },
          "metadata": {
            "tags": []
          },
          "execution_count": 6
        }
      ]
    },
    {
      "cell_type": "code",
      "metadata": {
        "colab": {
          "base_uri": "https://localhost:8080/"
        },
        "id": "3E75gz0IuvT8",
        "outputId": "c062e4ce-1b3a-4e80-f3f5-d0f9ad342390"
      },
      "source": [
        "# Forma\n",
        "x.shape"
      ],
      "execution_count": 7,
      "outputs": [
        {
          "output_type": "execute_result",
          "data": {
            "text/plain": [
              "(2, 3)"
            ]
          },
          "metadata": {
            "tags": []
          },
          "execution_count": 7
        }
      ]
    },
    {
      "cell_type": "code",
      "metadata": {
        "colab": {
          "base_uri": "https://localhost:8080/"
        },
        "id": "r3ru8el6u006",
        "outputId": "9f1ca28d-5467-4c2d-d2bf-0fb754123260"
      },
      "source": [
        "# Indexado\n",
        "x [0]"
      ],
      "execution_count": 8,
      "outputs": [
        {
          "output_type": "execute_result",
          "data": {
            "text/plain": [
              "array([1, 2, 3])"
            ]
          },
          "metadata": {
            "tags": []
          },
          "execution_count": 8
        }
      ]
    },
    {
      "cell_type": "markdown",
      "metadata": {
        "id": "gWKelVYawkJT"
      },
      "source": [
        "# Numpy Matrix\n",
        "\n",
        "Una matriz de numpy es una matriz de dos dimensiones, especializada que conserva su naturaleza de dos dimensiones a través de operaciones. Tiene ciertos operadores especiales, como * (multiplicación de matrices) y ** (potencia de matriz)."
      ]
    },
    {
      "cell_type": "code",
      "metadata": {
        "colab": {
          "base_uri": "https://localhost:8080/"
        },
        "id": "1SuTcSfQ3BzM",
        "outputId": "13256e59-10f9-4131-bac6-84eaac03d818"
      },
      "source": [
        "# Declaración de una matriz de numpy\n",
        "\n",
        "x = np.matrix([[1, 2], [3, 4]])\n",
        "x"
      ],
      "execution_count": 17,
      "outputs": [
        {
          "output_type": "execute_result",
          "data": {
            "text/plain": [
              "matrix([[1, 2],\n",
              "        [3, 4]])"
            ]
          },
          "metadata": {
            "tags": []
          },
          "execution_count": 17
        }
      ]
    },
    {
      "cell_type": "code",
      "metadata": {
        "colab": {
          "base_uri": "https://localhost:8080/"
        },
        "id": "V4uYoYKl3bIC",
        "outputId": "69a07296-b025-478b-d8c9-4cfa0bf1091c"
      },
      "source": [
        "# Propiedades\n",
        "\n",
        "# Numero de dimensiones\n",
        "x.ndim"
      ],
      "execution_count": 18,
      "outputs": [
        {
          "output_type": "execute_result",
          "data": {
            "text/plain": [
              "2"
            ]
          },
          "metadata": {
            "tags": []
          },
          "execution_count": 18
        }
      ]
    },
    {
      "cell_type": "code",
      "metadata": {
        "colab": {
          "base_uri": "https://localhost:8080/"
        },
        "id": "5KqIBY2Z3jat",
        "outputId": "d834a3c9-3ed1-4f1d-d3b7-b9dee5e85cbe"
      },
      "source": [
        "# Forma\n",
        "x.shape"
      ],
      "execution_count": 19,
      "outputs": [
        {
          "output_type": "execute_result",
          "data": {
            "text/plain": [
              "(2, 2)"
            ]
          },
          "metadata": {
            "tags": []
          },
          "execution_count": 19
        }
      ]
    },
    {
      "cell_type": "code",
      "metadata": {
        "colab": {
          "base_uri": "https://localhost:8080/"
        },
        "id": "Oq3XTqqt3otT",
        "outputId": "8403eec4-ec19-4137-d2ce-932010028d9c"
      },
      "source": [
        "# Indexado\n",
        "x [0]"
      ],
      "execution_count": 20,
      "outputs": [
        {
          "output_type": "execute_result",
          "data": {
            "text/plain": [
              "matrix([[1, 2]])"
            ]
          },
          "metadata": {
            "tags": []
          },
          "execution_count": 20
        }
      ]
    },
    {
      "cell_type": "markdown",
      "metadata": {
        "id": "ANy_u9544GRg"
      },
      "source": [
        "## Operaciones de numpy arrays y matrices\n",
        "\n",
        "### Suma"
      ]
    },
    {
      "cell_type": "code",
      "metadata": {
        "colab": {
          "base_uri": "https://localhost:8080/"
        },
        "id": "3s4wztr84NIU",
        "outputId": "7ae68bec-481e-4420-f47a-030d6f70dfc0"
      },
      "source": [
        "# Suma Numpy Arrays\n",
        "A = np.array([[2, 4], [5, -6]])\n",
        "B = np.array([[9, -3], [3, 6]])\n",
        "print(A+B)\n",
        "# Suma Numpy Matrix\n",
        "A = np.matrix([[2, 4], [5, -6]])\n",
        "B = np.matrix([[9, -3], [3, 6]])\n",
        "print(A+B)\n"
      ],
      "execution_count": 22,
      "outputs": [
        {
          "output_type": "stream",
          "text": [
            "[[11  1]\n",
            " [ 8  0]]\n",
            "[[11  1]\n",
            " [ 8  0]]\n"
          ],
          "name": "stdout"
        }
      ]
    },
    {
      "cell_type": "markdown",
      "metadata": {
        "id": "kZWrkXBA4pw6"
      },
      "source": [
        "### Resta"
      ]
    },
    {
      "cell_type": "code",
      "metadata": {
        "colab": {
          "base_uri": "https://localhost:8080/"
        },
        "id": "VjK-t5CF4ooX",
        "outputId": "07757353-cad9-49da-fbff-925e08a6f3ae"
      },
      "source": [
        "# Resta Numpy Arrays\n",
        "A = np.array([[2, 4], [5, -6]])\n",
        "B = np.array([[9, -3], [3, 6]])\n",
        "print(A-B)\n",
        "# Resta Numpy Matrix\n",
        "A = np.matrix([[2, 4], [5, -6]])\n",
        "B = np.matrix([[9, -3], [3, 6]])\n",
        "print(A-B)"
      ],
      "execution_count": 24,
      "outputs": [
        {
          "output_type": "stream",
          "text": [
            "[[ -7   7]\n",
            " [  2 -12]]\n",
            "[[ -7   7]\n",
            " [  2 -12]]\n"
          ],
          "name": "stdout"
        }
      ]
    },
    {
      "cell_type": "markdown",
      "metadata": {
        "id": "z1Yev-HR44PL"
      },
      "source": [
        "### Multiplicación\n",
        "\n",
        "#### Producto punto"
      ]
    },
    {
      "cell_type": "code",
      "metadata": {
        "colab": {
          "base_uri": "https://localhost:8080/"
        },
        "id": "DwObZSvg49lw",
        "outputId": "0acd4688-2b4e-4211-dfa7-bbdca012a713"
      },
      "source": [
        "# Producto punto Numpy Arrays\n",
        "A = np.array([[2, 4], [5, -6]])\n",
        "B = np.array([[9, -3], [3, 6]])\n",
        "print(A.dot(B))\n",
        "# Producto punto Numpy Matrix\n",
        "A = np.matrix([[2, 4], [5, -6]])\n",
        "B = np.matrix([[9, -3], [3, 6]])\n",
        "print(A.dot(B))"
      ],
      "execution_count": 28,
      "outputs": [
        {
          "output_type": "stream",
          "text": [
            "[[ 30  18]\n",
            " [ 27 -51]]\n",
            "[[ 30  18]\n",
            " [ 27 -51]]\n"
          ],
          "name": "stdout"
        }
      ]
    },
    {
      "cell_type": "markdown",
      "metadata": {
        "id": "VGmIco8C65Yb"
      },
      "source": [
        "### Transpuesta"
      ]
    },
    {
      "cell_type": "code",
      "metadata": {
        "colab": {
          "base_uri": "https://localhost:8080/"
        },
        "id": "njEQnOWw68K9",
        "outputId": "7ef6a5e1-a869-4be9-e1d7-bd4d6d243853"
      },
      "source": [
        "# Transpuesta Numpy Array\n",
        "A = np.array([[1, 1], [2, 1]])\n",
        "print(A.T)\n",
        "# Transpuesta Numpy Matrix\n",
        "A = np.matrix([[1, 1], [2, 1]])\n",
        "print(A.T)"
      ],
      "execution_count": 36,
      "outputs": [
        {
          "output_type": "stream",
          "text": [
            "[[1 2]\n",
            " [1 1]]\n",
            "[[1 2]\n",
            " [1 1]]\n"
          ],
          "name": "stdout"
        }
      ]
    },
    {
      "cell_type": "markdown",
      "metadata": {
        "id": "e1QXR-hH7UqS"
      },
      "source": [
        "# Diferencia entre Numpy Array y Numpy Matrix\n",
        "\n",
        "La principal diferencia entre estos dos tipos de elementos es de que las matrices numpy son estrictamente **bidimensionales**, mientras que los array de numpy (ndarrays) son **N-dimensionales**. Los objetos matrix son una subclase de ndarray, por lo que heredan todos los atributos y métodos de ndarrays, tal y como se muestra en los ejemplos anteriores."
      ]
    },
    {
      "cell_type": "markdown",
      "metadata": {
        "id": "CTgTIpNN7-hM"
      },
      "source": [
        "# Ejercicio 1 Notebook 8"
      ]
    },
    {
      "cell_type": "markdown",
      "metadata": {
        "id": "-SjgBSs8lltS"
      },
      "source": [
        "**Ejercicio aplicado en DS**\n",
        "Se tiene una red neuronal sencilla(y simplificada) como la de la siguiente imagen:\n",
        "<img src=\"https://www.oreilly.com/library/view/practical-convolutional-neural/9781788392303/assets/246151fb-7893-448d-b9bb-7a87b387a24b.png\">\n",
        "\n",
        "Donde:\n",
        "* INPUT LAYER: un vector X de tamaño = 2 que representa los datos de entrada\n",
        "* HIDDEN_LAYER :capa oculta con 2 neuronas definidas por los vectores:\n",
        "    * HL1 = [0.25,0.37]\n",
        "    * HL2 = [-8,14]\n",
        "* OUTPUT_LAYER = capa de salida definida por el vector [4,9]\n",
        "\n",
        "Crear una funcion neural_network(X) para calcular:\n",
        "* Calcule la salida de cada neurona en la capa intermedia aplicada a la capa de entrada.\n",
        "* Use el resultado del paso anterior como entrada para la neurona en la capa de salida\n",
        "\n",
        "Utilizando multiplicación de matrices se debe calcular para cada fila de la matriz de entrada X el valor de las neuronas de la capa intermedia, esto producirá una nueva matriz con el mismo número de filas que X y 2 columnas(1 para cada neurona) , a  los valores de esta matriz se les debe aplicar la función \"sigmoid\"(descrita a continuación) para limitarlos al intervalo de 0 a 1, esto produce una matriz del mismo tamaño pero con valores entre 0 a 1, esta matriz se multiplica matricialmente por la matriz que representa los pesos de la capa de salida  y este proceso produce un nuevo tensor al cual se debe aplicar nuevamente la función sigmoid. El resultado debe ser un tensor con el mismo número de filas que la matriz X y una sola columna(una predicción para cada fila de X.\n",
        "\n",
        "<img src=\"https://cdn-images-1.medium.com/max/1600/1*Xu7B5y9gp0iL5ooBj7LtWw.png\">"
      ]
    },
    {
      "cell_type": "code",
      "metadata": {
        "id": "xfiHo7UCmOyh"
      },
      "source": [
        "import numpy as np"
      ],
      "execution_count": 10,
      "outputs": []
    },
    {
      "cell_type": "code",
      "metadata": {
        "id": "7-DSZ6gSmHCJ"
      },
      "source": [
        "def sigmoid(x): #convertir los valores de x al rango de 0 a 1\n",
        "    return 1/(1+np.exp(-x))"
      ],
      "execution_count": 11,
      "outputs": []
    },
    {
      "cell_type": "code",
      "metadata": {
        "id": "iMHCibTK8l62"
      },
      "source": [
        "def neural_network(X):\n",
        "    H_W = np.array([[0.25,0.37],\n",
        "                    [-8,14]])\n",
        "    OL_W = np.array([[4],[9]])\n",
        "    O_HL = np.matmul(H_W,X)\n",
        "    O_HL = sigmoid(O_HL)\n",
        "    O_OUT_LAYER = np.matmul(O_HL, OL_W)\n",
        "    O_OUT_LAYER = sigmoid(O_OUT_LAYER)\n",
        "    return O_OUT_LAYER"
      ],
      "execution_count": 87,
      "outputs": []
    },
    {
      "cell_type": "code",
      "metadata": {
        "colab": {
          "base_uri": "https://localhost:8080/"
        },
        "id": "OgV_rNms-PhB",
        "outputId": "5778f8d8-8356-403b-9aa5-b211f8b621dd"
      },
      "source": [
        "X =  np.array([[0.1,0.2],\n",
        "               [1,2]])\n",
        "neural_network(X)"
      ],
      "execution_count": 88,
      "outputs": [
        {
          "output_type": "execute_result",
          "data": {
            "text/plain": [
              "array([[0.99981229],\n",
              "       [0.99999774]])"
            ]
          },
          "metadata": {
            "tags": []
          },
          "execution_count": 88
        }
      ]
    },
    {
      "cell_type": "markdown",
      "metadata": {
        "id": "PtYJVUIDl_DJ"
      },
      "source": [
        "### Ejercicio \n",
        "\n",
        "Implementar en una funcion neural_network(X) la red neuronal definida por la siguiente arquitectura:\n",
        "\n",
        "<img src=\"http://i.imgur.com/UNlffE1.png\">\n",
        "\n",
        "Podemos validar si fue correctamente implementada si usamos como entrada el vector x=[1,1] . Debemos obtener el resultado mostrado en la imagen.\n",
        "\n",
        "Una vez tenemos la implementacion correcta, cambiar la funcion de activacion de la capa de salida por la funcion de activacion ReLu(https://en.wikipedia.org/wiki/Rectifier_(neural_networks)):\n",
        "\n",
        "<img src=\"https://cdn-images-1.medium.com/max/1600/1*DfMRHwxY1gyyDmrIAd-gjQ.png\">\n",
        "\n",
        "Luego evaluar la red neuronal sobre la matriz de datos X(de manera vectorizada):"
      ]
    },
    {
      "cell_type": "code",
      "metadata": {
        "id": "suM1yGjUl_Y0"
      },
      "source": [
        "X = np.array([\n",
        "    [0.1,2],\n",
        "    [0.3,0.45],\n",
        "    [5,9],\n",
        "    [12,6],\n",
        "    [7,5],\n",
        "    [0.3,0.8],\n",
        "    [12,5],\n",
        "    [100,200],\n",
        "    [7,8],\n",
        "    [300,1500]])"
      ],
      "execution_count": 13,
      "outputs": []
    },
    {
      "cell_type": "code",
      "metadata": {
        "id": "9udnLhvkiepc"
      },
      "source": [
        "def relu(x):\n",
        "    return np.maximum(0,x)"
      ],
      "execution_count": 159,
      "outputs": []
    },
    {
      "cell_type": "code",
      "metadata": {
        "id": "VTXd6CgEPyTJ"
      },
      "source": [
        "def neural_network(X, act):\n",
        "    H_W = np.array([[0.712, 0.355, 0.268], [0.112, 0.855, 0.468]])\n",
        "    OL_W = np.matmul(X, H_W)\n",
        "    OL_W = act(OL_W)\n",
        "    HL_W = np.array([[0.116], [0.329], [0.708]])\n",
        "    OL_HLW = np.matmul(OL_W, HL_W)\n",
        "    OL_HLW = act(OL_HLW)\n",
        "    return OL_HLW"
      ],
      "execution_count": 161,
      "outputs": []
    },
    {
      "cell_type": "code",
      "metadata": {
        "colab": {
          "base_uri": "https://localhost:8080/"
        },
        "id": "-jk4EToXPqQy",
        "outputId": "a7179634-05e7-41dc-bfe4-cc3791aa1213"
      },
      "source": [
        "X= np.array([[1,1]])\n",
        "print(neural_network(X, sigmoid))\n",
        "print(neural_network(X, relu))"
      ],
      "execution_count": 166,
      "outputs": [
        {
          "output_type": "stream",
          "text": [
            "[[0.69269553]]\n",
            "[[1.014762]]\n"
          ],
          "name": "stdout"
        }
      ]
    },
    {
      "cell_type": "code",
      "metadata": {
        "colab": {
          "base_uri": "https://localhost:8080/"
        },
        "id": "LSVOOhwFPxB5",
        "outputId": "edaaeeba-4d5c-4caf-d8e8-bdb513d4b383"
      },
      "source": [
        "X = np.array([\n",
        "    [0.1,2],\n",
        "    [0.3,0.45],\n",
        "    [5,9],\n",
        "    [12,6],\n",
        "    [7,5],\n",
        "    [0.3,0.8],\n",
        "    [12,5],\n",
        "    [100,200],\n",
        "    [7,8],\n",
        "    [300,1500]])\n",
        "print(neural_network(X, sigmoid))\n",
        "print(neural_network(X, relu))"
      ],
      "execution_count": 167,
      "outputs": [
        {
          "output_type": "stream",
          "text": [
            "[[0.70244573]\n",
            " [0.66259284]\n",
            " [0.75933678]\n",
            " [0.75973948]\n",
            " [0.75802295]\n",
            " [0.6739704 ]\n",
            " [0.75954693]\n",
            " [0.76005845]\n",
            " [0.75952743]\n",
            " [0.76005845]]\n",
            "[[1.2901751e+00]\n",
            " [3.9827325e-01]\n",
            " [7.5763340e+00]\n",
            " [8.4233580e+00]\n",
            " [5.8520720e+00]\n",
            " [6.1724410e-01]\n",
            " [7.7977270e+00]\n",
            " [1.6403930e+02]\n",
            " [7.7289650e+00]\n",
            " [1.0551858e+03]]\n"
          ],
          "name": "stdout"
        }
      ]
    }
  ]
}