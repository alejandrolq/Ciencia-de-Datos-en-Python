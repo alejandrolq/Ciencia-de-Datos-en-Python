{
 "cells": [
  {
   "cell_type": "markdown",
   "id": "floral-niger",
   "metadata": {},
   "source": [
    "![logo](./images/logo.png)"
   ]
  },
  {
   "cell_type": "markdown",
   "id": "reliable-oklahoma",
   "metadata": {},
   "source": [
    "**Nombre: José Alejandro López Quel**\n",
    "\n",
    "**Carné: 21001127**\n",
    "\n",
    "**Ciencia de Datos en Python**\n",
    "\n",
    "**Sección U**\n",
    "\n",
    "**Tarea 2**"
   ]
  },
  {
   "cell_type": "markdown",
   "id": "recovered-handbook",
   "metadata": {},
   "source": [
    "# Git"
   ]
  },
  {
   "cell_type": "markdown",
   "id": "curious-slovakia",
   "metadata": {},
   "source": [
    "## ¿Qué son los sistemas controladores de versiones?\n",
    "Los sistemas de controlador de versiones (VCSs por sus siglas en inglés) son herramientas utilizados para registrar y realizar el seguimiento de los cambios realizados al codigo fuente, incluyendo colecciones de archivos y directorios. Los VCSs registran los cambios realizados a directorios y su contenido en una serie de capturas, donde cada una de estas capturas encapsula el estado completo de los archivos/directorios dentro de un directorio superior. Los VCSs mantienen la metadata de estas capturas como quién fue el creador, mensajes asociados, entre otros."
   ]
  },
  {
   "cell_type": "markdown",
   "id": "limited-cancellation",
   "metadata": {},
   "source": [
    "## ¿Por qué utilizar un sistema controlador de versiones?\n",
    "Estos sistemas ayudan a llevar el registro de versiones antiguas del proyecto, mantener un log respecto a la razón de por qué se realizan ciertos cambios, trabajar multiples ramas paralelas de desarrollo, etre otras. Cuando se trabaja colaborativamente, es un herramienta indispensable para saber los cambios realizados por otras personas, así como tambien para resolver conflictos en versiones simultáneas de desarrollo."
   ]
  },
  {
   "cell_type": "markdown",
   "id": "resistant-paper",
   "metadata": {},
   "source": [
    "Existen distintos sistemas de control de versiones, pero **Git** es el estandar de facto de todos ellos."
   ]
  },
  {
   "cell_type": "markdown",
   "id": "selected-liabilities",
   "metadata": {},
   "source": [
    "## Modelo de datos de Git\n",
    "### Capturas (Snapshots)\n",
    "Git modela el historial de una colección de archivos y carpetas que comparten un mismo directorio superior a través de una serie de capturas. Dentro de Git, un archivo es llamado **blob**. A un directorio se le llama **árbol** y a este se vinculan otros **blobs** u otros **árboles**, esto debido a que un directorio puede contener otros directorios. Por lo que, una captura es el seguimiento del directorio superior o árbol superior. "
   ]
  },
  {
   "cell_type": "markdown",
   "id": "postal-collect",
   "metadata": {},
   "source": [
    "Ejemplo de la estructura de archivos y directorios de Git.\n",
    "```\n",
    "<root> (árbol)\n",
    "|\n",
    "+- directorio1 (árbol)\n",
    "|  |\n",
    "|  + datos.txt (blob, contenido = \"Datos\")\n",
    "|\n",
    "+- configuracion.txt (blob, contenido = \"Configuración\")\n",
    "```"
   ]
  },
  {
   "cell_type": "markdown",
   "id": "legal-infrastructure",
   "metadata": {},
   "source": [
    "### Modelado del historial: conexiones entre capturas\n",
    "Git modela el historial en forma de grafo acíclico dirigido (DAG por sus siglas en inglés) de capturas. Esto significa que cada captura esta vinculada a un conjunto de **nodos padres**, que son las capturas que lo preceden. En otras palabras, es un conjunto de nodos en lugar de un nodo líneal, debido a que una captura puede descender de multiples padres, al fusionarse dos ramas paralelas de desarrollo. Estas capturas, dentro de Git, se denominan **commits**. "
   ]
  },
  {
   "cell_type": "markdown",
   "id": "distant-mongolia",
   "metadata": {},
   "source": [
    "Ejemplo de visualización de un historial de **commits**.\n",
    "```\n",
    "o <-- o <-- o <-- o\n",
    "            ^  \n",
    "             \\\n",
    "              --- o <-- o\n",
    "```\n",
    "Donde cada circulo representa un **commit** diferente y las lineas representan las diferentes ramas o **branches** que se pueden llegar a tener."
   ]
  },
  {
   "cell_type": "markdown",
   "id": "portable-money",
   "metadata": {},
   "source": [
    "Ejemplo de visualización de un historial de **commits** en el que se fusionan 2 **branches**.\n",
    "```\n",
    "o <-- o <-- o <-- o <---- o\n",
    "            ^            /\n",
    "             \\          v\n",
    "              --- o <-- o\n",
    "```            "
   ]
  },
  {
   "cell_type": "markdown",
   "id": "social-consistency",
   "metadata": {},
   "source": [
    "Los commits en Git son inmutables. Esto no significa que los errores no se pueden correjir, sino que cualquier **edición** que se realiza al historial de **commits** implica crear un nuevo **commit**, y las referencias son actualizadas para apuntar a los nuevos **commits**."
   ]
  },
  {
   "cell_type": "markdown",
   "id": "static-harmony",
   "metadata": {},
   "source": [
    "### Objetos y direccionamientos del contenido\n",
    "Un **objeto** dentro de Git puede ser un **blob**, un **árbol** o un **commit**, de forma que todos están unificados. En el almacenamiento de datos de Git, todos los objetos son direccionados a su contenido por un hash SHA-1. Al momento de que estos objetos referencian a otros objetos, realmente no es que esten contenidos en su representación de almacenamiento, sino que se refieren entre sí por su hash asignado. "
   ]
  },
  {
   "cell_type": "markdown",
   "id": "completed-electricity",
   "metadata": {},
   "source": [
    "Ejemplo de visualización de una estructura de directorio, empleando el comando *git cat-file -p hash*\n",
    "```\n",
    "100644 blob 4448adbf7ecd394f42ae135bbeed9676e894af85    datos.txt\n",
    "040000 tree c68d233a33c5c06e0340e4c224f0afca87c8ce87    directorio1\n",
    "```"
   ]
  },
  {
   "cell_type": "markdown",
   "id": "suited-literacy",
   "metadata": {},
   "source": [
    "### Repositorios\n",
    "Un repositorio en Git, es la data de los objetos y referencias. Todos los comandos de git vinculan alguna manipulación del **commit** DAG ya sea añadiendo objetos y agregando/actualizando referencias."
   ]
  },
  {
   "cell_type": "markdown",
   "id": "excess-orange",
   "metadata": {},
   "source": [
    "### Área de preparación (Staging area)\n",
    "Al momento de realizar capturas de los directorios y archivos no siempre será lo ideal tomar la captura de todo el estado actual. Git se acomoda a esto permitiendo especificar cuáles modificaciones deben ser incluidas en la siguiente captura a tráves de el mécanismo llamado área de preparación. "
   ]
  },
  {
   "cell_type": "markdown",
   "id": "vietnamese-karaoke",
   "metadata": {},
   "source": [
    "### Interfaz de línea de comandos de Git\n",
    "#### Básicos\n",
    "\n",
    "##### Help (Ayuda)\n",
    "El comando `git help <comando>` muestra ayuda acerca de un comando de git en especifico. "
   ]
  },
  {
   "cell_type": "code",
   "execution_count": 7,
   "id": "mysterious-continent",
   "metadata": {},
   "outputs": [
    {
     "name": "stdout",
     "output_type": "stream",
     "text": [
      "See 'git help <command>' to read about a specific subcommand\n",
      "\n",
      "Main Porcelain Commands\n",
      "   add                  Add file contents to the index\n",
      "   am                   Apply a series of patches from a mailbox\n",
      "   archive              Create an archive of files from a named tree\n",
      "   bisect               Use binary search to find the commit that introduced a bug\n",
      "   branch               List, create, or delete branches\n",
      "   bundle               Move objects and refs by archive\n",
      "   checkout             Switch branches or restore working tree files\n",
      "   cherry-pick          Apply the changes introduced by some existing commits\n",
      "   citool               Graphical alternative to git-commit\n",
      "   clean                Remove untracked files from the working tree\n",
      "   clone                Clone a repository into a new directory\n",
      "   commit               Record changes to the repository\n",
      "   describe             Give an object a human readable name based on an available ref\n",
      "   diff                 Show changes between commits, commit and working tree, etc\n",
      "   fetch                Download objects and refs from another repository\n",
      "   format-patch         Prepare patches for e-mail submission\n",
      "   gc                   Cleanup unnecessary files and optimize the local repository\n",
      "   gitk                 The Git repository browser\n",
      "   grep                 Print lines matching a pattern\n",
      "   gui                  A portable graphical interface to Git\n",
      "   init                 Create an empty Git repository or reinitialize an existing one\n",
      "   log                  Show commit logs\n",
      "   maintenance          Run tasks to optimize Git repository data\n",
      "   merge                Join two or more development histories together\n",
      "   mv                   Move or rename a file, a directory, or a symlink\n",
      "   notes                Add or inspect object notes\n",
      "   pull                 Fetch from and integrate with another repository or a local branch\n",
      "   push                 Update remote refs along with associated objects\n",
      "   range-diff           Compare two commit ranges (e.g. two versions of a branch)\n",
      "   rebase               Reapply commits on top of another base tip\n",
      "   reset                Reset current HEAD to the specified state\n",
      "   restore              Restore working tree files\n",
      "   revert               Revert some existing commits\n",
      "   rm                   Remove files from the working tree and from the index\n",
      "   shortlog             Summarize 'git log' output\n",
      "   show                 Show various types of objects\n",
      "   sparse-checkout      Initialize and modify the sparse-checkout\n",
      "   stash                Stash the changes in a dirty working directory away\n",
      "   status               Show the working tree status\n",
      "   submodule            Initialize, update or inspect submodules\n",
      "   switch               Switch branches\n",
      "   tag                  Create, list, delete or verify a tag object signed with GPG\n",
      "   worktree             Manage multiple working trees\n",
      "\n",
      "Ancillary Commands / Manipulators\n",
      "   config               Get and set repository or global options\n",
      "   fast-export          Git data exporter\n",
      "   fast-import          Backend for fast Git data importers\n",
      "   filter-branch        Rewrite branches\n",
      "   mergetool            Run merge conflict resolution tools to resolve merge conflicts\n",
      "   pack-refs            Pack heads and tags for efficient repository access\n",
      "   prune                Prune all unreachable objects from the object database\n",
      "   reflog               Manage reflog information\n",
      "   remote               Manage set of tracked repositories\n",
      "   repack               Pack unpacked objects in a repository\n",
      "   replace              Create, list, delete refs to replace objects\n",
      "\n",
      "Ancillary Commands / Interrogators\n",
      "   annotate             Annotate file lines with commit information\n",
      "   blame                Show what revision and author last modified each line of a file\n",
      "   bugreport            Collect information for user to file a bug report\n",
      "   count-objects        Count unpacked number of objects and their disk consumption\n",
      "   difftool             Show changes using common diff tools\n",
      "   fsck                 Verifies the connectivity and validity of the objects in the database\n",
      "   gitweb               Git web interface (web frontend to Git repositories)\n",
      "   help                 Display help information about Git\n",
      "   instaweb             Instantly browse your working repository in gitweb\n",
      "   merge-tree           Show three-way merge without touching index\n",
      "   rerere               Reuse recorded resolution of conflicted merges\n",
      "   show-branch          Show branches and their commits\n",
      "   verify-commit        Check the GPG signature of commits\n",
      "   verify-tag           Check the GPG signature of tags\n",
      "   whatchanged          Show logs with difference each commit introduces\n",
      "\n",
      "Interacting with Others\n",
      "   archimport           Import a GNU Arch repository into Git\n",
      "   cvsexportcommit      Export a single commit to a CVS checkout\n",
      "   cvsimport            Salvage your data out of another SCM people love to hate\n",
      "   cvsserver            A CVS server emulator for Git\n",
      "   imap-send            Send a collection of patches from stdin to an IMAP folder\n",
      "   p4                   Import from and submit to Perforce repositories\n",
      "   quiltimport          Applies a quilt patchset onto the current branch\n",
      "   request-pull         Generates a summary of pending changes\n",
      "   send-email           Send a collection of patches as emails\n",
      "   svn                  Bidirectional operation between a Subversion repository and Git\n",
      "\n",
      "Low-level Commands / Manipulators\n",
      "   apply                Apply a patch to files and/or to the index\n",
      "   checkout-index       Copy files from the index to the working tree\n",
      "   commit-graph         Write and verify Git commit-graph files\n",
      "   commit-tree          Create a new commit object\n",
      "   hash-object          Compute object ID and optionally creates a blob from a file\n",
      "   index-pack           Build pack index file for an existing packed archive\n",
      "   merge-file           Run a three-way file merge\n",
      "   merge-index          Run a merge for files needing merging\n",
      "   mktag                Creates a tag object\n",
      "   mktree               Build a tree-object from ls-tree formatted text\n",
      "   multi-pack-index     Write and verify multi-pack-indexes\n",
      "   pack-objects         Create a packed archive of objects\n",
      "   prune-packed         Remove extra objects that are already in pack files\n",
      "   read-tree            Reads tree information into the index\n",
      "   symbolic-ref         Read, modify and delete symbolic refs\n",
      "   unpack-objects       Unpack objects from a packed archive\n",
      "   update-index         Register file contents in the working tree to the index\n",
      "   update-ref           Update the object name stored in a ref safely\n",
      "   write-tree           Create a tree object from the current index\n",
      "\n",
      "Low-level Commands / Interrogators\n",
      "   cat-file             Provide content or type and size information for repository objects\n",
      "   cherry               Find commits yet to be applied to upstream\n",
      "   diff-files           Compares files in the working tree and the index\n",
      "   diff-index           Compare a tree to the working tree or index\n",
      "   diff-tree            Compares the content and mode of blobs found via two tree objects\n",
      "   for-each-ref         Output information on each ref\n",
      "   for-each-repo        Run a Git command on a list of repositories\n",
      "   get-tar-commit-id    Extract commit ID from an archive created using git-archive\n",
      "   ls-files             Show information about files in the index and the working tree\n",
      "   ls-remote            List references in a remote repository\n",
      "   ls-tree              List the contents of a tree object\n",
      "   merge-base           Find as good common ancestors as possible for a merge\n",
      "   name-rev             Find symbolic names for given revs\n",
      "   pack-redundant       Find redundant pack files\n",
      "   rev-list             Lists commit objects in reverse chronological order\n",
      "   rev-parse            Pick out and massage parameters\n",
      "   show-index           Show packed archive index\n",
      "   show-ref             List references in a local repository\n",
      "   unpack-file          Creates a temporary file with a blob's contents\n",
      "   var                  Show a Git logical variable\n",
      "   verify-pack          Validate packed Git archive files\n",
      "\n",
      "Low-level Commands / Syncing Repositories\n",
      "   daemon               A really simple server for Git repositories\n",
      "   fetch-pack           Receive missing objects from another repository\n",
      "   http-backend         Server side implementation of Git over HTTP\n",
      "   send-pack            Push objects over Git protocol to another repository\n",
      "   update-server-info   Update auxiliary info file to help dumb servers\n",
      "\n",
      "Low-level Commands / Internal Helpers\n",
      "   check-attr           Display gitattributes information\n",
      "   check-ignore         Debug gitignore / exclude files\n",
      "   check-mailmap        Show canonical names and email addresses of contacts\n",
      "   check-ref-format     Ensures that a reference name is well formed\n",
      "   column               Display data in columns\n",
      "   credential           Retrieve and store user credentials\n",
      "   credential-cache     Helper to temporarily store passwords in memory\n",
      "   credential-store     Helper to store credentials on disk\n",
      "   fmt-merge-msg        Produce a merge commit message\n",
      "   interpret-trailers   Add or parse structured information in commit messages\n",
      "   mailinfo             Extracts patch and authorship from a single e-mail message\n",
      "   mailsplit            Simple UNIX mbox splitter program\n",
      "   merge-one-file       The standard helper program to use with git-merge-index\n",
      "   patch-id             Compute unique ID for a patch\n",
      "   sh-i18n              Git's i18n setup code for shell scripts\n",
      "   sh-setup             Common Git shell script setup code\n",
      "   stripspace           Remove unnecessary whitespace\n",
      "\n",
      "External commands\n",
      "   askyesno\n",
      "   credential-helper-selector\n",
      "   flow\n",
      "   lfs\n"
     ]
    }
   ],
   "source": [
    "!git help -a"
   ]
  },
  {
   "cell_type": "markdown",
   "id": "surprising-moses",
   "metadata": {},
   "source": [
    "##### Init (Inicio)\n",
    "Este comando crea un nuevo repositorio de git, con la data almacenada en el directorio *.git*. Para inicializar un repositorio de git solo es necesario posicionarse sobre el directorio y ejecutar el comando `git init`."
   ]
  },
  {
   "cell_type": "code",
   "execution_count": 24,
   "id": "choice-enough",
   "metadata": {},
   "outputs": [
    {
     "name": "stdout",
     "output_type": "stream",
     "text": [
      "Initialized empty Git repository in C:/Users/aleva/Documents/Cursos/Maestria Data Science Universidad Galileo/Primer Trimestre/Ciencia de Datos en Python/test/.git/\n"
     ]
    }
   ],
   "source": [
    "!cd \"..\\..\\..\\\" && mkdir test && cd test && git init"
   ]
  },
  {
   "cell_type": "markdown",
   "id": "addressed-estimate",
   "metadata": {},
   "source": [
    "##### Status (Estado)\n",
    "Este comando indica el estado actual del repositorio, en este se muestra si hay algun cambio sin procesar o cambios que estan listos para formar parte de un **commit**. Para utilizar este comando solo es necesario ejecutar `git status` en el directorio correspondiente."
   ]
  },
  {
   "cell_type": "code",
   "execution_count": 25,
   "id": "forced-sponsorship",
   "metadata": {},
   "outputs": [
    {
     "name": "stdout",
     "output_type": "stream",
     "text": [
      "On branch master\n",
      "\n",
      "No commits yet\n",
      "\n",
      "nothing to commit (create/copy files and use \"git add\" to track)\n"
     ]
    }
   ],
   "source": [
    "!cd \"..\\..\\..\\test\\\" && git status"
   ]
  },
  {
   "cell_type": "code",
   "execution_count": 27,
   "id": "still-wichita",
   "metadata": {},
   "outputs": [
    {
     "name": "stdout",
     "output_type": "stream",
     "text": [
      "On branch master\n",
      "\n",
      "No commits yet\n",
      "\n",
      "Untracked files:\n",
      "  (use \"git add <file>...\" to include in what will be committed)\n",
      "\tdatos.txt\n",
      "\n",
      "nothing added to commit but untracked files present (use \"git add\" to track)\n"
     ]
    }
   ],
   "source": [
    "# Ejemplo status con un archivo fuera del área de staging\n",
    "# Creación de un archivo txt llamado datos con una linea de texto \"Datos\"\n",
    "!echo \"Datos\" >> \"..\\..\\..\\test\\datos.txt\"\n",
    "!cd \"..\\..\\..\\test\\\" && git status"
   ]
  },
  {
   "cell_type": "markdown",
   "id": "operational-solution",
   "metadata": {},
   "source": [
    "##### Add (Agregar al área de staging)\n",
    "Este comando agrega el directorio/archivo indicado, al área de staging. Para utilizar este comando es necesario ejecutar `git add <nombre archivo/directorio>`. "
   ]
  },
  {
   "cell_type": "code",
   "execution_count": 29,
   "id": "looking-liabilities",
   "metadata": {},
   "outputs": [
    {
     "name": "stdout",
     "output_type": "stream",
     "text": [
      "On branch master\n",
      "\n",
      "No commits yet\n",
      "\n",
      "Changes to be committed:\n",
      "  (use \"git rm --cached <file>...\" to unstage)\n",
      "\tnew file:   datos.txt\n",
      "\n"
     ]
    }
   ],
   "source": [
    "!cd \"..\\..\\..\\test\\\" && git add datos.txt && git status"
   ]
  },
  {
   "cell_type": "markdown",
   "id": "worthy-campaign",
   "metadata": {},
   "source": [
    "##### Commit (Crear un commit)\n",
    "Este comando genera una captura (**commit**) de los archivos/directorios que se agregaron al área de staging. Para ejecutarlo existen 2 formas:\n",
    "1. `git commit`: al ejecutarlo muestra una pantalla adicional para agregar un comentario sobre el mismo\n",
    "2. `git commit -m comentario`: se agrega en una sola linea el comentario"
   ]
  },
  {
   "cell_type": "code",
   "execution_count": 32,
   "id": "streaming-anatomy",
   "metadata": {},
   "outputs": [
    {
     "name": "stdout",
     "output_type": "stream",
     "text": [
      "[master (root-commit) 0dca1de] Agregado datos.txt\n",
      " 1 file changed, 1 insertion(+)\n",
      " create mode 100644 datos.txt\n"
     ]
    }
   ],
   "source": [
    "!cd \"..\\..\\..\\test\\\" && git commit -m \"Agregado datos.txt\""
   ]
  },
  {
   "cell_type": "markdown",
   "id": "characteristic-pricing",
   "metadata": {},
   "source": [
    "##### Log (Visualizar historial)\n",
    "Este comando muestra un log plano del historial de **commits**. Para utilizarlo es necesario ejecutar `git log`."
   ]
  },
  {
   "cell_type": "code",
   "execution_count": 33,
   "id": "incomplete-israel",
   "metadata": {},
   "outputs": [
    {
     "name": "stdout",
     "output_type": "stream",
     "text": [
      "commit 0dca1deb16bd81d5d4c113b16250c5a94536e61e\n",
      "Author: Alejandro Lopez <alejandro@lopezquel.info>\n",
      "Date:   Sun Feb 7 22:25:04 2021 -0600\n",
      "\n",
      "    Agregado datos.txt\n"
     ]
    }
   ],
   "source": [
    "!cd \"..\\..\\..\\test\\\" && git log"
   ]
  },
  {
   "cell_type": "markdown",
   "id": "pointed-preservation",
   "metadata": {},
   "source": [
    "Este comando tambien puede mostrar este historial como un DAG (grafo). Para ello es necesario ejecutar el comando de la siguiente form `git log --all --graph --decorate`."
   ]
  },
  {
   "cell_type": "code",
   "execution_count": 34,
   "id": "instructional-contemporary",
   "metadata": {},
   "outputs": [
    {
     "name": "stdout",
     "output_type": "stream",
     "text": [
      "* commit 0dca1deb16bd81d5d4c113b16250c5a94536e61e (HEAD -> master)\n",
      "  Author: Alejandro Lopez <alejandro@lopezquel.info>\n",
      "  Date:   Sun Feb 7 22:25:04 2021 -0600\n",
      "  \n",
      "      Agregado datos.txt\n"
     ]
    }
   ],
   "source": [
    "!cd \"..\\..\\..\\test\\\" && git log --all --graph --decorate"
   ]
  },
  {
   "cell_type": "code",
   "execution_count": 35,
   "id": "mighty-colombia",
   "metadata": {},
   "outputs": [
    {
     "name": "stdout",
     "output_type": "stream",
     "text": [
      "[master 7446863] Agregado datos2.txt\n",
      " 1 file changed, 1 insertion(+)\n",
      " create mode 100644 datos2.txt\n",
      "* commit 74468630faa6dae173fe36883704955339195dbc (HEAD -> master)\n",
      "| Author: Alejandro Lopez <alejandro@lopezquel.info>\n",
      "| Date:   Sun Feb 7 22:33:39 2021 -0600\n",
      "| \n",
      "|     Agregado datos2.txt\n",
      "| \n",
      "* commit 0dca1deb16bd81d5d4c113b16250c5a94536e61e\n",
      "  Author: Alejandro Lopez <alejandro@lopezquel.info>\n",
      "  Date:   Sun Feb 7 22:25:04 2021 -0600\n",
      "  \n",
      "      Agregado datos.txt\n"
     ]
    }
   ],
   "source": [
    "# Ejemplo agregando otro commit para una mejor visualización\n",
    "!echo \"Datos2\" >> \"..\\..\\..\\test\\datos2.txt\"\n",
    "!cd \"..\\..\\..\\test\\\" && git add datos2.txt && git commit -m \"Agregado datos2.txt\"\n",
    "!cd \"..\\..\\..\\test\\\" && git log --all --graph --decorate"
   ]
  },
  {
   "cell_type": "markdown",
   "id": "architectural-shopping",
   "metadata": {},
   "source": [
    "##### Diff (Visualizar diferencias entre **commits**)\n",
    "Este comando muestra las diferencias desde el último commit. Para utilizarlo es necesario ejecutar `git diff <nombre del archivo>`."
   ]
  },
  {
   "cell_type": "code",
   "execution_count": 36,
   "id": "mighty-session",
   "metadata": {},
   "outputs": [
    {
     "name": "stdout",
     "output_type": "stream",
     "text": [
      "[master 62045be] Agregada nueva linea de texto a datos.txt\n",
      " 1 file changed, 1 insertion(+)\n"
     ]
    }
   ],
   "source": [
    "# Agregando una linea extra al archivo datos.txt para visualizar las diferencias.\n",
    "!echo \"Datos nueva linea\" >> \"..\\..\\..\\test\\datos.txt\"\n",
    "!cd \"..\\..\\..\\test\\\" && git add datos.txt && git commit -m \"Agregada nueva linea de texto a datos.txt\""
   ]
  },
  {
   "cell_type": "code",
   "execution_count": 38,
   "id": "hydraulic-hardware",
   "metadata": {},
   "outputs": [
    {
     "name": "stdout",
     "output_type": "stream",
     "text": [
      "diff --git a/datos.txt b/datos.txt\n",
      "index 041ef4c..a2d63cf 100644\n",
      "--- a/datos.txt\n",
      "+++ b/datos.txt\n",
      "@@ -1 +1,2 @@\n",
      " \"Datos\" \n",
      "+\"Datos nueva linea\" \n"
     ]
    }
   ],
   "source": [
    "!cd \"..\\..\\..\\test\\\" && git diff datos.txt"
   ]
  },
  {
   "cell_type": "markdown",
   "id": "sonic-ecology",
   "metadata": {},
   "source": [
    "Este comando tambien se puede ejecutar comparando un commit en especifico, para ello se utiliza de la siguiente forma `git diff <hash> <nombre del archivo>`."
   ]
  },
  {
   "cell_type": "code",
   "execution_count": 39,
   "id": "fluid-upper",
   "metadata": {},
   "outputs": [
    {
     "name": "stdout",
     "output_type": "stream",
     "text": [
      "diff --git a/datos.txt b/datos.txt\n",
      "index 041ef4c..a2d63cf 100644\n",
      "--- a/datos.txt\n",
      "+++ b/datos.txt\n",
      "@@ -1 +1,2 @@\n",
      " \"Datos\" \n",
      "+\"Datos nueva linea\" \n"
     ]
    }
   ],
   "source": [
    "!cd \"..\\..\\..\\test\\\" && git diff 0dca1de datos.txt"
   ]
  },
  {
   "cell_type": "markdown",
   "id": "olympic-channel",
   "metadata": {},
   "source": [
    "##### Checkout (Cambiar el puntero HEAD a un **commit** especifico)\n",
    "Este comando se utiliza para cambiar el puntero HEAD a un **commit** especifico, ya sea para verificar un estado anterior o posterior. Para utilizarlo solo es necesario ejecutarlo de la siguiente forma `git checkout <hash>`."
   ]
  },
  {
   "cell_type": "code",
   "execution_count": 40,
   "id": "coral-performer",
   "metadata": {},
   "outputs": [
    {
     "name": "stderr",
     "output_type": "stream",
     "text": [
      "Note: switching to '0dca1de'.\n",
      "\n",
      "You are in 'detached HEAD' state. You can look around, make experimental\n",
      "changes and commit them, and you can discard any commits you make in this\n",
      "state without impacting any branches by switching back to a branch.\n",
      "\n",
      "If you want to create a new branch to retain commits you create, you may\n",
      "do so (now or later) by using -c with the switch command. Example:\n",
      "\n",
      "  git switch -c <new-branch-name>\n",
      "\n",
      "Or undo this operation with:\n",
      "\n",
      "  git switch -\n",
      "\n",
      "Turn off this advice by setting config variable advice.detachedHead to false\n",
      "\n",
      "HEAD is now at 0dca1de Agregado datos.txt\n"
     ]
    }
   ],
   "source": [
    "!cd \"..\\..\\..\\test\\\" && git checkout 0dca1de"
   ]
  },
  {
   "cell_type": "code",
   "execution_count": 41,
   "id": "rolled-malta",
   "metadata": {},
   "outputs": [
    {
     "name": "stderr",
     "output_type": "stream",
     "text": [
      "Previous HEAD position was 0dca1de Agregado datos.txt\n",
      "HEAD is now at 62045be Agregada nueva linea de texto a datos.txt\n"
     ]
    }
   ],
   "source": [
    "# Regresando el puntero HEAD al último commit\n",
    "!cd \"..\\..\\..\\test\\\" && git checkout 62045be"
   ]
  },
  {
   "cell_type": "code",
   "execution_count": 42,
   "id": "naughty-wilderness",
   "metadata": {},
   "outputs": [
    {
     "name": "stdout",
     "output_type": "stream",
     "text": [
      "* commit 62045bed217df844d9d104b48ab19d3890264776 (HEAD, master)\n",
      "| Author: Alejandro Lopez <alejandro@lopezquel.info>\n",
      "| Date:   Sun Feb 7 22:41:54 2021 -0600\n",
      "| \n",
      "|     Agregada nueva linea de texto a datos.txt\n",
      "| \n",
      "* commit 74468630faa6dae173fe36883704955339195dbc\n",
      "| Author: Alejandro Lopez <alejandro@lopezquel.info>\n",
      "| Date:   Sun Feb 7 22:33:39 2021 -0600\n",
      "| \n",
      "|     Agregado datos2.txt\n",
      "| \n",
      "* commit 0dca1deb16bd81d5d4c113b16250c5a94536e61e\n",
      "  Author: Alejandro Lopez <alejandro@lopezquel.info>\n",
      "  Date:   Sun Feb 7 22:25:04 2021 -0600\n",
      "  \n",
      "      Agregado datos.txt\n"
     ]
    }
   ],
   "source": [
    "# Comprobando posición del puntero HEAD\n",
    "!cd \"..\\..\\..\\test\\\" && git log --all --graph --decorate"
   ]
  },
  {
   "cell_type": "markdown",
   "id": "guilty-australian",
   "metadata": {},
   "source": [
    "##### Branch (Ramificación)\n",
    "Dentro de Git se pueden trabajar múltiples ramas de un mismo repositorio para poder implementar cambios en los archivos de forma paralela. El comando branch sirve para visualizar las ramas que se tienen creadas dentro de un repositorio. Para utilizarlo es necesario ejecutar `git branch`."
   ]
  },
  {
   "cell_type": "code",
   "execution_count": 44,
   "id": "filled-celebrity",
   "metadata": {},
   "outputs": [
    {
     "name": "stdout",
     "output_type": "stream",
     "text": [
      "* master\n"
     ]
    }
   ],
   "source": [
    "!cd \"..\\..\\..\\test\\\" && git branch"
   ]
  },
  {
   "cell_type": "markdown",
   "id": "herbal-borough",
   "metadata": {},
   "source": [
    "Si se desea genera una nueva rama es necesario ejecutar `git branch <nombre de la rama>` y posteriormente para utilizarla es necesario ejecutar el comando `git checkout <nombre de la rama>`. La creación y cambio a la nueva rama se puede simplificar con el uso del comando `git checkout -b <nombre de la rama>`."
   ]
  },
  {
   "cell_type": "code",
   "execution_count": 45,
   "id": "postal-cathedral",
   "metadata": {},
   "outputs": [
    {
     "name": "stderr",
     "output_type": "stream",
     "text": [
      "Switched to a new branch 'suma'\n"
     ]
    }
   ],
   "source": [
    "# Creando rama llamada suma\n",
    "!cd \"..\\..\\..\\test\\\" && git checkout -b suma"
   ]
  },
  {
   "cell_type": "code",
   "execution_count": 46,
   "id": "interpreted-abortion",
   "metadata": {},
   "outputs": [
    {
     "name": "stderr",
     "output_type": "stream",
     "text": [
      "Switched to branch 'master'\n",
      "Switched to a new branch 'resta'\n"
     ]
    }
   ],
   "source": [
    "# Cambiando a rama master y creando rama llamada resta\n",
    "!cd \"..\\..\\..\\test\\\" && git checkout master\n",
    "!cd \"..\\..\\..\\test\\\" && git checkout -b resta"
   ]
  },
  {
   "cell_type": "code",
   "execution_count": 47,
   "id": "responsible-russian",
   "metadata": {},
   "outputs": [
    {
     "name": "stdout",
     "output_type": "stream",
     "text": [
      "  master\n",
      "* resta\n",
      "  suma\n"
     ]
    }
   ],
   "source": [
    "# Mostrando las ramas creadas\n",
    "!cd \"..\\..\\..\\test\\\" && git branch"
   ]
  },
  {
   "cell_type": "markdown",
   "id": "affected-exemption",
   "metadata": {},
   "source": [
    "##### Merge (Fusión)\n",
    "Dentro de estas ramas se puede generar cambios a los archivos los cuales se pueden llegar a fusionar. Para fusionar dos ramas solo es necesario cambiar a la rama que se desea integrar y ejecutar el comando `git merge <rama>`.  "
   ]
  },
  {
   "cell_type": "code",
   "execution_count": 48,
   "id": "legendary-illustration",
   "metadata": {},
   "outputs": [
    {
     "name": "stderr",
     "output_type": "stream",
     "text": [
      "Switched to branch 'suma'\n"
     ]
    }
   ],
   "source": [
    "# Realizando commits en las distintas ramas para mostrar como se pueden fusionar. \n",
    "# Se tiene el archivo programa.py con funciones definidas. \n",
    "# En la rama suma se agrega una función de suma y en la rama resta se agrega una función de resta.\n",
    "# Y se generan los commits correspondientes.\n",
    "!cd \"..\\..\\..\\test\\\" && git checkout suma"
   ]
  },
  {
   "cell_type": "code",
   "execution_count": 49,
   "id": "different-consortium",
   "metadata": {},
   "outputs": [
    {
     "name": "stdout",
     "output_type": "stream",
     "text": [
      "[suma 9f896fb] Agregada funcion suma\n",
      " 1 file changed, 8 insertions(+), 1 deletion(-)\n"
     ]
    }
   ],
   "source": [
    "!cd \"..\\..\\..\\test\\\" && git add programa.py && git commit -m \"Agregada funcion suma\""
   ]
  },
  {
   "cell_type": "code",
   "execution_count": 50,
   "id": "historic-percentage",
   "metadata": {},
   "outputs": [
    {
     "name": "stderr",
     "output_type": "stream",
     "text": [
      "Switched to branch 'resta'\n"
     ]
    }
   ],
   "source": [
    "!cd \"..\\..\\..\\test\\\" && git checkout resta"
   ]
  },
  {
   "cell_type": "code",
   "execution_count": 51,
   "id": "victorian-accused",
   "metadata": {},
   "outputs": [
    {
     "name": "stdout",
     "output_type": "stream",
     "text": [
      "[resta 42ab70a] Agregada funcion resta\n",
      " 1 file changed, 8 insertions(+), 1 deletion(-)\n"
     ]
    }
   ],
   "source": [
    "!cd \"..\\..\\..\\test\\\" && git add programa.py && git commit -m \"Agregada funcion resta\""
   ]
  },
  {
   "cell_type": "code",
   "execution_count": 52,
   "id": "soviet-terror",
   "metadata": {},
   "outputs": [
    {
     "name": "stdout",
     "output_type": "stream",
     "text": [
      "* commit 42ab70a2df3555b38b4eae81a6a6ec1a4c597637 (HEAD -> resta)\n",
      "| Author: Alejandro Lopez <alejandro@lopezquel.info>\n",
      "| Date:   Sun Feb 7 23:31:04 2021 -0600\n",
      "| \n",
      "|     Agregada funcion resta\n",
      "|   \n",
      "| * commit 9f896fbe5424886e815d80665f1c2c92e793df16 (suma)\n",
      "|/  Author: Alejandro Lopez <alejandro@lopezquel.info>\n",
      "|   Date:   Sun Feb 7 23:29:05 2021 -0600\n",
      "|   \n",
      "|       Agregada funcion suma\n",
      "| \n",
      "* commit 5235e94a71fe3d290767312503c455f5a3a9a08e (master)\n",
      "| Author: Alejandro Lopez <alejandro@lopezquel.info>\n",
      "| Date:   Sun Feb 7 23:16:20 2021 -0600\n",
      "| \n",
      "|     Agregado programa.py\n",
      "| \n",
      "* commit 62045bed217df844d9d104b48ab19d3890264776\n",
      "| Author: Alejandro Lopez <alejandro@lopezquel.info>\n",
      "| Date:   Sun Feb 7 22:41:54 2021 -0600\n",
      "| \n",
      "|     Agregada nueva linea de texto a datos.txt\n",
      "| \n",
      "* commit 74468630faa6dae173fe36883704955339195dbc\n",
      "| Author: Alejandro Lopez <alejandro@lopezquel.info>\n",
      "| Date:   Sun Feb 7 22:33:39 2021 -0600\n",
      "| \n",
      "|     Agregado datos2.txt\n",
      "| \n",
      "* commit 0dca1deb16bd81d5d4c113b16250c5a94536e61e\n",
      "  Author: Alejandro Lopez <alejandro@lopezquel.info>\n",
      "  Date:   Sun Feb 7 22:25:04 2021 -0600\n",
      "  \n",
      "      Agregado datos.txt\n"
     ]
    }
   ],
   "source": [
    "# Visualizando los commits realizados\n",
    "!cd \"..\\..\\..\\test\\\" && git log --all --graph --decorate"
   ]
  },
  {
   "cell_type": "code",
   "execution_count": 53,
   "id": "relevant-telephone",
   "metadata": {},
   "outputs": [
    {
     "name": "stderr",
     "output_type": "stream",
     "text": [
      "Switched to branch 'master'\n"
     ]
    }
   ],
   "source": [
    "# Regresando a la rama master para realizar la primera fusión con la rama suma\n",
    "!cd \"..\\..\\..\\test\\\" && git checkout master"
   ]
  },
  {
   "cell_type": "code",
   "execution_count": 54,
   "id": "surface-canadian",
   "metadata": {},
   "outputs": [
    {
     "name": "stdout",
     "output_type": "stream",
     "text": [
      "Updating 5235e94..9f896fb\n",
      "Fast-forward\n",
      " programa.py | 9 ++++++++-\n",
      " 1 file changed, 8 insertions(+), 1 deletion(-)\n"
     ]
    }
   ],
   "source": [
    "!cd \"..\\..\\..\\test\\\" && git merge suma"
   ]
  },
  {
   "cell_type": "code",
   "execution_count": 55,
   "id": "alive-evidence",
   "metadata": {},
   "outputs": [
    {
     "name": "stdout",
     "output_type": "stream",
     "text": [
      "* commit 42ab70a2df3555b38b4eae81a6a6ec1a4c597637 (resta)\n",
      "| Author: Alejandro Lopez <alejandro@lopezquel.info>\n",
      "| Date:   Sun Feb 7 23:31:04 2021 -0600\n",
      "| \n",
      "|     Agregada funcion resta\n",
      "|   \n",
      "| * commit 9f896fbe5424886e815d80665f1c2c92e793df16 (HEAD -> master, suma)\n",
      "|/  Author: Alejandro Lopez <alejandro@lopezquel.info>\n",
      "|   Date:   Sun Feb 7 23:29:05 2021 -0600\n",
      "|   \n",
      "|       Agregada funcion suma\n",
      "| \n",
      "* commit 5235e94a71fe3d290767312503c455f5a3a9a08e\n",
      "| Author: Alejandro Lopez <alejandro@lopezquel.info>\n",
      "| Date:   Sun Feb 7 23:16:20 2021 -0600\n",
      "| \n",
      "|     Agregado programa.py\n",
      "| \n",
      "* commit 62045bed217df844d9d104b48ab19d3890264776\n",
      "| Author: Alejandro Lopez <alejandro@lopezquel.info>\n",
      "| Date:   Sun Feb 7 22:41:54 2021 -0600\n",
      "| \n",
      "|     Agregada nueva linea de texto a datos.txt\n",
      "| \n",
      "* commit 74468630faa6dae173fe36883704955339195dbc\n",
      "| Author: Alejandro Lopez <alejandro@lopezquel.info>\n",
      "| Date:   Sun Feb 7 22:33:39 2021 -0600\n",
      "| \n",
      "|     Agregado datos2.txt\n",
      "| \n",
      "* commit 0dca1deb16bd81d5d4c113b16250c5a94536e61e\n",
      "  Author: Alejandro Lopez <alejandro@lopezquel.info>\n",
      "  Date:   Sun Feb 7 22:25:04 2021 -0600\n",
      "  \n",
      "      Agregado datos.txt\n"
     ]
    }
   ],
   "source": [
    "# Visualización de los commits despues de la fusión\n",
    "!cd \"..\\..\\..\\test\\\" && git log --all --graph --decorate"
   ]
  },
  {
   "cell_type": "code",
   "execution_count": 56,
   "id": "mobile-nickel",
   "metadata": {},
   "outputs": [
    {
     "name": "stdout",
     "output_type": "stream",
     "text": [
      "Auto-merging programa.py\n",
      "CONFLICT (content): Merge conflict in programa.py\n",
      "Automatic merge failed; fix conflicts and then commit the result.\n"
     ]
    }
   ],
   "source": [
    "# Intento para fusionar rama actual con la rama resta\n",
    "!cd \"..\\..\\..\\test\\\" && git merge resta"
   ]
  },
  {
   "cell_type": "markdown",
   "id": "exclusive-yemen",
   "metadata": {},
   "source": [
    "##### Mergetool (Comando para resolver conflictos de fusión de ramas)\n",
    "En ciertos escenarios cuando se trabaja con multiples ramas, al momento de fusionarlas pueden existir conflictos, por lo que es necesario utilizar herramientas para poder resolverlos. Git cuenta con el comando `mergetool` para poder resolver estos conflictos. Para poder utilizarlo es necesario ejecutar `git mergetool`."
   ]
  },
  {
   "cell_type": "markdown",
   "id": "noted-shipping",
   "metadata": {},
   "source": [
    "Visualización de un conflicto de fusión de ramas.\n",
    "\n",
    "![conflicto](./images/Conflictos.png)"
   ]
  },
  {
   "cell_type": "markdown",
   "id": "welcome-reservoir",
   "metadata": {},
   "source": [
    "Visualización del comando `mergetool`.\n",
    "\n",
    "![Mergetool](./images/Mergetool.png)"
   ]
  },
  {
   "cell_type": "markdown",
   "id": "likely-office",
   "metadata": {},
   "source": [
    "Luego de resolver los conflictos se debe ejecutar `git add <nombre del archivo modificado>` y `git merge --continue`"
   ]
  },
  {
   "cell_type": "markdown",
   "id": "marked-industry",
   "metadata": {},
   "source": [
    "![BMerge](./images/BMerge.png)\n",
    "![MergeContinue](./images/MergeContinue.png)"
   ]
  },
  {
   "cell_type": "code",
   "execution_count": 63,
   "id": "french-builder",
   "metadata": {},
   "outputs": [
    {
     "name": "stdout",
     "output_type": "stream",
     "text": [
      "*   commit 0bb8bdf0a9219fea004aaa3087002bbe29e8b01d (HEAD -> master)\n",
      "|\\  Merge: 9f896fb 0023785\n",
      "| | Author: Alejandro Lopez <alejandro@lopezquel.info>\n",
      "| | Date:   Mon Feb 8 00:09:48 2021 -0600\n",
      "| | \n",
      "| |     Merge branch 'resta'\n",
      "| | \n",
      "| * commit 002378510e07690a077813fb2f28ff6773d00e99 (resta)\n",
      "| | Author: Alejandro Lopez <alejandro@lopezquel.info>\n",
      "| | Date:   Mon Feb 8 00:00:10 2021 -0600\n",
      "| | \n",
      "| |     Cambio funcion\n",
      "| | \n",
      "| * commit 8258cc9302ee6c10340b69570a9a1d9fdaa424db\n",
      "| | Author: Alejandro Lopez <alejandro@lopezquel.info>\n",
      "| | Date:   Sun Feb 7 23:58:35 2021 -0600\n",
      "| | \n",
      "| |     Cambio funcion\n",
      "| | \n",
      "| * commit 40e1f8a1aac74b1520a8f791994bfa11a33843e5\n",
      "| | Author: Alejandro Lopez <alejandro@lopezquel.info>\n",
      "| | Date:   Sun Feb 7 23:58:05 2021 -0600\n",
      "| | \n",
      "| |     Cambio funcion\n",
      "| | \n",
      "| * commit 42ab70a2df3555b38b4eae81a6a6ec1a4c597637\n",
      "| | Author: Alejandro Lopez <alejandro@lopezquel.info>\n",
      "| | Date:   Sun Feb 7 23:31:04 2021 -0600\n",
      "| | \n",
      "| |     Agregada funcion resta\n",
      "| |   \n",
      "| | * commit a0629da1ff3e77cc37531eb7b65c4c3cefa22d13 (refs/stash)\n",
      "| |/| Merge: 9f896fb 78142f3\n",
      "|/| | Author: Alejandro Lopez <alejandro@lopezquel.info>\n",
      "| | | Date:   Sun Feb 7 23:56:40 2021 -0600\n",
      "| | | \n",
      "| | |     WIP on master: 9f896fb Agregada funcion suma\n",
      "| | | \n",
      "| | * commit 78142f39eb3a5ab662380143e3e7c9dee8a276c6\n",
      "| |/  Author: Alejandro Lopez <alejandro@lopezquel.info>\n",
      "|/|   Date:   Sun Feb 7 23:56:40 2021 -0600\n",
      "| |   \n",
      "| |       index on master: 9f896fb Agregada funcion suma\n",
      "| | \n",
      "* | commit 9f896fbe5424886e815d80665f1c2c92e793df16 (suma)\n",
      "|/  Author: Alejandro Lopez <alejandro@lopezquel.info>\n",
      "|   Date:   Sun Feb 7 23:29:05 2021 -0600\n",
      "|   \n",
      "|       Agregada funcion suma\n",
      "| \n",
      "* commit 5235e94a71fe3d290767312503c455f5a3a9a08e\n",
      "| Author: Alejandro Lopez <alejandro@lopezquel.info>\n",
      "| Date:   Sun Feb 7 23:16:20 2021 -0600\n",
      "| \n",
      "|     Agregado programa.py\n",
      "| \n",
      "* commit 62045bed217df844d9d104b48ab19d3890264776\n",
      "| Author: Alejandro Lopez <alejandro@lopezquel.info>\n",
      "| Date:   Sun Feb 7 22:41:54 2021 -0600\n",
      "| \n",
      "|     Agregada nueva linea de texto a datos.txt\n",
      "| \n",
      "* commit 74468630faa6dae173fe36883704955339195dbc\n",
      "| Author: Alejandro Lopez <alejandro@lopezquel.info>\n",
      "| Date:   Sun Feb 7 22:33:39 2021 -0600\n",
      "| \n",
      "|     Agregado datos2.txt\n",
      "| \n",
      "* commit 0dca1deb16bd81d5d4c113b16250c5a94536e61e\n",
      "  Author: Alejandro Lopez <alejandro@lopezquel.info>\n",
      "  Date:   Sun Feb 7 22:25:04 2021 -0600\n",
      "  \n",
      "      Agregado datos.txt\n"
     ]
    }
   ],
   "source": [
    "# Visualización de multiples fusiones y commits\n",
    "!cd \"..\\..\\..\\test\\\" && git log --all --graph --decorate"
   ]
  },
  {
   "cell_type": "markdown",
   "id": "wired-calendar",
   "metadata": {},
   "source": [
    "##### Remote (Repositorios remotos)\n",
    "Una de las principales caracteristicas de los sistemas controladores de versiones es la habilidad de poder trabajar de forma colaborativa, por lo que Git ofrece las funciones de repositorios remotos, para llevar el control de versionamiento del mismo repositorio en una máquina o sitio diferente. Para visualizar los sitios remotos asociados a un repositorio se puede ejecutar el comando `git remote`, en caso no se tenga un sitio remoto configurado este aparecera vacío."
   ]
  },
  {
   "cell_type": "code",
   "execution_count": 64,
   "id": "demographic-authentication",
   "metadata": {},
   "outputs": [],
   "source": [
    "!cd \"..\\..\\..\\test\\\" && git remote"
   ]
  },
  {
   "cell_type": "markdown",
   "id": "binding-volume",
   "metadata": {},
   "source": [
    "Para agregar un sitio remoto es necesario ejecutar el comando `git remote add <nombre> <url>`."
   ]
  },
  {
   "cell_type": "code",
   "execution_count": 66,
   "id": "medieval-encoding",
   "metadata": {},
   "outputs": [
    {
     "name": "stdout",
     "output_type": "stream",
     "text": [
      "Initialized empty Git repository in C:/Users/aleva/Documents/Cursos/Maestria Data Science Universidad Galileo/Primer Trimestre/Ciencia de Datos en Python/remoto/\n"
     ]
    }
   ],
   "source": [
    "# Creando sitio remoto \n",
    "!cd \"..\\..\\..\\\" && mkdir remoto && cd remoto && git init --bare"
   ]
  },
  {
   "cell_type": "code",
   "execution_count": 82,
   "id": "constitutional-membrane",
   "metadata": {},
   "outputs": [],
   "source": [
    "# Agregado sitio remoto\n",
    "!cd \"..\\..\\..\\test\\\" && git remote add origin ..\\remoto"
   ]
  },
  {
   "cell_type": "code",
   "execution_count": 83,
   "id": "allied-commodity",
   "metadata": {},
   "outputs": [
    {
     "name": "stdout",
     "output_type": "stream",
     "text": [
      "origin\n"
     ]
    }
   ],
   "source": [
    "# Mostrando sitios remotos\n",
    "!cd \"..\\..\\..\\test\\\" && git remote"
   ]
  },
  {
   "cell_type": "markdown",
   "id": "freelance-sodium",
   "metadata": {},
   "source": [
    "##### Push (Enviando cambios a ubicación remota)\n",
    "Para enviar los cambios realizados en el repositorio local al repositorio remoto es necesario ejecutar el comando `git push <nombre remoto> <rama local>:<rama remota>`."
   ]
  },
  {
   "cell_type": "code",
   "execution_count": 85,
   "id": "magnetic-premiere",
   "metadata": {},
   "outputs": [
    {
     "name": "stdout",
     "output_type": "stream",
     "text": [
      "[master c1a0ad9] Agregada nueva linea de texto a datos.txt\n",
      " 1 file changed, 1 insertion(+)\n"
     ]
    }
   ],
   "source": [
    "# Generando cambios en la rama local\n",
    "!echo \"Datos nueva linea\" >> \"..\\..\\..\\test\\datos.txt\"\n",
    "!cd \"..\\..\\..\\test\\\" && git add datos.txt && git commit -m \"Agregada nueva linea de texto a datos.txt\""
   ]
  },
  {
   "cell_type": "code",
   "execution_count": 86,
   "id": "ceramic-manitoba",
   "metadata": {},
   "outputs": [
    {
     "name": "stderr",
     "output_type": "stream",
     "text": [
      "To ..\\remoto\n",
      "   b6f3f53..c1a0ad9  master -> master\n"
     ]
    }
   ],
   "source": [
    "# Enviando cambios a ubicación remota\n",
    "!cd \"..\\..\\..\\test\\\" && git push origin master:master"
   ]
  },
  {
   "cell_type": "markdown",
   "id": "serial-fountain",
   "metadata": {},
   "source": [
    "Para no tener que indicar siempre el nombre del repositorio remoto y la rama, se puede establecer una correspondencia entre la ubicación local y la rama remota con el comando `git branch --set-upstream-to=<nombre remoto>/<rama remota>`."
   ]
  },
  {
   "cell_type": "code",
   "execution_count": 87,
   "id": "impressed-stuart",
   "metadata": {},
   "outputs": [
    {
     "name": "stdout",
     "output_type": "stream",
     "text": [
      "Branch 'master' set up to track remote branch 'master' from 'origin'.\n"
     ]
    }
   ],
   "source": [
    "!cd \"..\\..\\..\\test\\\" && git branch --set-upstream-to=origin/master"
   ]
  },
  {
   "cell_type": "markdown",
   "id": "prescribed-plastic",
   "metadata": {},
   "source": [
    "##### Clone (Clonar un repositorio)\n",
    "En Git es posible clonar los repositorios, esto para genera cambios locales que posteriormente se implementen en la rama principal. Para clonar un repositorio es necesario utilizar el comando `git clone <repositorio> <nombre>`."
   ]
  },
  {
   "cell_type": "code",
   "execution_count": 92,
   "id": "blind-plant",
   "metadata": {},
   "outputs": [
    {
     "name": "stderr",
     "output_type": "stream",
     "text": [
      "Cloning into 'test2'...\n",
      "done.\n"
     ]
    }
   ],
   "source": [
    "!cd \"..\\..\\..\" && git clone .\\remoto test2"
   ]
  },
  {
   "cell_type": "markdown",
   "id": "stainless-notebook",
   "metadata": {},
   "source": [
    "##### Fetch (Obtener cambios realizados en otra ubicación remota)\n",
    "Para obtener los cambios realizados en un repositorio remoto es necesario ejecutar el comando `git fetch` y posteriormente realizar la fusión con la rama local utilizando el comando `git merge`. "
   ]
  },
  {
   "cell_type": "code",
   "execution_count": 94,
   "id": "clear-malaysia",
   "metadata": {},
   "outputs": [
    {
     "name": "stdout",
     "output_type": "stream",
     "text": [
      "Already up to date.\n"
     ]
    }
   ],
   "source": [
    "!cd \"..\\..\\..\\test2\\\" && git fetch && git merge"
   ]
  },
  {
   "cell_type": "code",
   "execution_count": 95,
   "id": "comparative-dollar",
   "metadata": {},
   "outputs": [
    {
     "name": "stdout",
     "output_type": "stream",
     "text": [
      "[master 94979d7] Agregada nueva linea de texto a datos.txt\n",
      " 1 file changed, 1 insertion(+)\n"
     ]
    },
    {
     "name": "stderr",
     "output_type": "stream",
     "text": [
      "To ..\\remoto\n",
      "   c1a0ad9..94979d7  master -> master\n"
     ]
    }
   ],
   "source": [
    "# Generando cambios en la rama local del repositorio 1 y enviandolos al repositorio remoto\n",
    "!echo \"Datos nueva linea\" >> \"..\\..\\..\\test\\datos.txt\"\n",
    "!cd \"..\\..\\..\\test\\\" && git add datos.txt && git commit -m \"Agregada nueva linea de texto a datos.txt\"\n",
    "!cd \"..\\..\\..\\test\\\" && git push"
   ]
  },
  {
   "cell_type": "code",
   "execution_count": 96,
   "id": "abroad-python",
   "metadata": {},
   "outputs": [
    {
     "name": "stdout",
     "output_type": "stream",
     "text": [
      "Updating c1a0ad9..94979d7\n",
      "Fast-forward\n",
      " datos.txt | 1 +\n",
      " 1 file changed, 1 insertion(+)\n"
     ]
    },
    {
     "name": "stderr",
     "output_type": "stream",
     "text": [
      "From C:/Users/aleva/Documents/Cursos/Maestria Data Science Universidad Galileo/Primer Trimestre/Ciencia de Datos en Python/.\\remoto\n",
      "   c1a0ad9..94979d7  master     -> origin/master\n"
     ]
    }
   ],
   "source": [
    "# Obteniendo cambios en el repositorio 2\n",
    "!cd \"..\\..\\..\\test2\\\" && git fetch && git merge"
   ]
  },
  {
   "cell_type": "markdown",
   "id": "knowing-david",
   "metadata": {},
   "source": [
    "##### Pull (Obtener cambios realizados en otra ubicación remota y fusionarlos a la rama principal)\n",
    "Para evitar utilizar los dos comandos (`fecth` y `merge`) al momento de solicitar los cambios realizados en otra ubicación remota, es posible utilizar el comando `pull`, el cual es lo mismo que `git fetch` y `git merge`. Para utilizarlo es necesario ejecutar `git pull`."
   ]
  },
  {
   "cell_type": "code",
   "execution_count": 97,
   "id": "parliamentary-collins",
   "metadata": {},
   "outputs": [
    {
     "name": "stdout",
     "output_type": "stream",
     "text": [
      "[master 541ab9e] Agregada nueva linea de texto a datos.txt\n",
      " 1 file changed, 1 insertion(+)\n"
     ]
    },
    {
     "name": "stderr",
     "output_type": "stream",
     "text": [
      "To ..\\remoto\n",
      "   94979d7..541ab9e  master -> master\n"
     ]
    }
   ],
   "source": [
    "# Generando cambios en la rama local del repositorio 1 y enviandolos al repositorio remoto\n",
    "!echo \"Datos nueva linea\" >> \"..\\..\\..\\test\\datos.txt\"\n",
    "!cd \"..\\..\\..\\test\\\" && git add datos.txt && git commit -m \"Agregada nueva linea de texto a datos.txt\"\n",
    "!cd \"..\\..\\..\\test\\\" && git push"
   ]
  },
  {
   "cell_type": "code",
   "execution_count": 98,
   "id": "selective-episode",
   "metadata": {},
   "outputs": [
    {
     "name": "stdout",
     "output_type": "stream",
     "text": [
      "Updating 94979d7..541ab9e\n",
      "Fast-forward\n",
      " datos.txt | 1 +\n",
      " 1 file changed, 1 insertion(+)\n"
     ]
    },
    {
     "name": "stderr",
     "output_type": "stream",
     "text": [
      "From C:/Users/aleva/Documents/Cursos/Maestria Data Science Universidad Galileo/Primer Trimestre/Ciencia de Datos en Python/.\\remoto\n",
      "   94979d7..541ab9e  master     -> origin/master\n"
     ]
    }
   ],
   "source": [
    "# Obteniendo cambios en el repositorio 2 con el comando pull\n",
    "!cd \"..\\..\\..\\test2\\\" && git pull"
   ]
  }
 ],
 "metadata": {
  "kernelspec": {
   "display_name": "Python 3",
   "language": "python",
   "name": "python3"
  },
  "language_info": {
   "codemirror_mode": {
    "name": "ipython",
    "version": 3
   },
   "file_extension": ".py",
   "mimetype": "text/x-python",
   "name": "python",
   "nbconvert_exporter": "python",
   "pygments_lexer": "ipython3",
   "version": "3.8.5"
  }
 },
 "nbformat": 4,
 "nbformat_minor": 5
}
